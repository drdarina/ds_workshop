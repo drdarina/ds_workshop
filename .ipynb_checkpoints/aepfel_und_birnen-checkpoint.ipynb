{
 "cells": [
  {
   "cell_type": "markdown",
   "metadata": {},
   "source": [
    "Wir arbeiten mit Python 3 in Jupyter Notebook. Notebooks erlauben, \"live\" zu programmieren und die Ergebnisse sofort im Browser zu sehen.\n",
    "\n",
    "Um den Code in einer Zelle auszuführen, drückt man STEUERUNG + ENTER.\n",
    "\n",
    "Um eine neue Zelle zu machen drückt man ESCAPE, danach B (für below) oder A (für above)."
   ]
  },
  {
   "cell_type": "markdown",
   "metadata": {},
   "source": [
    "In dem Code weisen wir der Variable a den Wert 5 zu. Danach lassen wir a auf dem Bildschirm ausgeben. Wir können auch Text auf dem Bildschirm ausgeben, wenn wir ihn in Anführungszeichen setzen."
   ]
  },
  {
   "cell_type": "code",
   "execution_count": 3,
   "metadata": {
    "collapsed": false
   },
   "outputs": [
    {
     "name": "stdout",
     "output_type": "stream",
     "text": [
      "Der Wert von a ist:\n",
      "5\n"
     ]
    }
   ],
   "source": [
    "a = 5\n",
    "print('Der Wert von a ist:')\n",
    "print(a)"
   ]
  },
  {
   "cell_type": "code",
   "execution_count": 3,
   "metadata": {
    "collapsed": true
   },
   "outputs": [],
   "source": [
    "# Das ist ein Kommentar\n",
    "# Zeilen, die kommentiert sind, werden nicht ausgeführt.\n",
    "# So kann man seinen Code erklären"
   ]
  },
  {
   "cell_type": "code",
   "execution_count": 4,
   "metadata": {
    "collapsed": false
   },
   "outputs": [
    {
     "name": "stdout",
     "output_type": "stream",
     "text": [
      "c = 8 und d = 1.6666666666666667\n"
     ]
    }
   ],
   "source": [
    "b = 3\n",
    "# wenn wir Variablen Werte zugewiesen haben, können wir damit genauso arbeiten, wie auf Papier.\n",
    "c = a + b\n",
    "d = a / b\n",
    "# wir können {} verwenden, um Werte auszugeben. Damit \"formattiert\" man den String. Hier geben wir den Wert von\n",
    "# c und d nacheinander aus.\n",
    "print('c = {} und d = {}'.format(c, d))"
   ]
  },
  {
   "cell_type": "code",
   "execution_count": 5,
   "metadata": {
    "collapsed": true
   },
   "outputs": [],
   "source": [
    "# Python ist eine Pogrammiersprache und Jupyter eine Programmieroberfläche.\n",
    "# Python enthält sehr viele Funktionen, die man benutzen muss. Diese sind in Paketen zusammegefasst. Diese Pakete\n",
    "# kann (und muss) man laden, wenn man Funktionen benutzen muss.\n",
    "# Wenn man auf Reisen geht, nimmt man auch nicht den gesamten Kleiderschrank mit, sondern trifft eine Auswahl von\n",
    "# Kleidung, die man für die Situation brauchen wird. So bleibt der Koffer leicht!\n",
    "\n",
    "# Numpy, um Mathe zu machen\n",
    "import numpy as np\n",
    "# Die folgenden Importe sind für Grafiken:\n",
    "import matplotlib.pyplot as plt\n",
    "import seaborn as sns\n",
    "%matplotlib inline"
   ]
  },
  {
   "cell_type": "code",
   "execution_count": 6,
   "metadata": {
    "collapsed": false
   },
   "outputs": [
    {
     "name": "stdout",
     "output_type": "stream",
     "text": [
      "Ups, wir haben d überschrieben! Jetzt ist d = 2.8284271247461903.\n"
     ]
    }
   ],
   "source": [
    "# Jetzt können wir mathematische Funktionen aus Numpy benutzen! Diese bekommen immer den Prefix np.\n",
    "d = np.sqrt(c)\n",
    "print('Ups, wir haben d überschrieben! Jetzt ist d = {}.'.format(d))"
   ]
  },
  {
   "cell_type": "code",
   "execution_count": null,
   "metadata": {
    "collapsed": true
   },
   "outputs": [],
   "source": [
    "# Wenn man den Funktionsnamen nicht raten kann, hilft Gooogle weiter.\n",
    "# Übung: was ist der 2-er Logarithmus von Wurzel c?"
   ]
  },
  {
   "cell_type": "code",
   "execution_count": 18,
   "metadata": {
    "collapsed": false
   },
   "outputs": [
    {
     "name": "stdout",
     "output_type": "stream",
     "text": [
      "[[  0 200   0   0]\n",
      " [  1 220   2   1]\n",
      " [  1 180   2   1]\n",
      " [  0 200   1   0]\n",
      " [  0 210   0   0]]\n"
     ]
    }
   ],
   "source": [
    "# Wir werden mit Matrizen arbeiten. Eine Matrix ist nichts anderes als ne Liste von Zeilen. Diese werden in numpy\n",
    "# als ein sogenanntes array gespeichert.\n",
    "# Wer schon mal mit Matlab gearbeitet hat, kann sich entspannen, denn numpy funktioniert fast genauso.\n",
    "\n",
    "# Hier haben wir mal die Obst-Werte als array abgespeichert\n",
    "# in jeder Spalte steht eine der Eigenschaften: Obsttyp, Form, Farbe, Gewicht\n",
    "# In jeder Zeile ist ein Exemplar\n",
    "\n",
    "obst = np.array([[0, 200, 0, 0], [1, 220, 2, 1], [1, 180, 2, 1], [0, 200, 1, 0], [0, 210, 0, 0]])\n",
    "\n",
    "print(obst)\n",
    "\n",
    "# Bonus: Wie transponiert man diese Matrix?"
   ]
  },
  {
   "cell_type": "code",
   "execution_count": 19,
   "metadata": {
    "collapsed": false
   },
   "outputs": [
    {
     "name": "stdout",
     "output_type": "stream",
     "text": [
      "   type  form  color  weight\n",
      "0     0   200      0       0\n",
      "1     1   220      2       1\n",
      "2     1   180      2       1\n",
      "3     0   200      1       0\n",
      "4     0   210      0       0\n"
     ]
    }
   ],
   "source": [
    "# Die Zeilen- und Spaltenbeschriftungen sind wichtig, weshalb wir die gerne mit speichern würden. Data Scientists\n",
    "# arbeiten viel mit einem speziellen Datenformat: DataFrame, das im Paket pandas enthalten ist.\n",
    "\n",
    "import pandas as pd\n",
    "obst = pd.DataFrame([[0, 200, 0, 0], [1, 220, 2, 1], [1, 180, 2, 1], [0, 200, 1, 0], [0, 210, 0, 0]],\n",
    "                   columns=['type', 'form', 'color', 'weight'])\n",
    "print(obst)\n",
    "\n",
    "# Damit können wir (fast) genauso arbeiten, wie mit einer Matrix, aber wir vergessen nie, was was ist!"
   ]
  },
  {
   "cell_type": "code",
   "execution_count": 20,
   "metadata": {
    "collapsed": false
   },
   "outputs": [],
   "source": [
    "# Bonus: In dieser Zelle erstellen wir einen künstlichen Datensatz. \n",
    "# Wer das nicht nachvollziehen will, kann den Code ausführen und überspringen.\n",
    "\n",
    "# Wir generieren Zufallsdaten mit den Bedinungen\n",
    "# 50% der Äpfel sind rot, 20% grün und 30% gelb\n",
    "# 100% der Äpfel sind rund\n",
    "# 50% der Birnen sind grün, 50% sind gelb\n",
    "# 90% der Birnen sind länglich, 10% sind rund\n",
    "# Sowohl Äpfel als auch Birnen können zwischen 150 und 300 gramm wiegen\n",
    "\n",
    "# zufallszahl 0 oder 1\n",
    "typ = np.random.randint(0, 2, size=1000)\n",
    "\n",
    "# zufallszahl zwishen 150 und 300\n",
    "gewicht = np.random.randint(150, 300, size=1000)\n",
    "\n",
    "form = np.random.random(size=1000)\n",
    "form[np.where(typ==0)] = 0\n",
    "form[np.where((typ==1)&(form>.9))] = 0\n",
    "form = form.astype('int')\n",
    "\n",
    "farbe = np.random.random(size=1000)\n",
    "farbe[np.where((typ==0)&(farbe<=0.5))]=0\n",
    "farbe[np.where((typ==0)&(farbe>0.8))]=2\n",
    "farbe[np.where((typ==1)&(farbe<=0.5))]=2\n",
    "farbe[np.where((typ==1)&(farbe>0.5))]=1\n",
    "farbe = farbe.astype('int')\n",
    "\n",
    "# das Ganze wird als Dataframe gespeichert\n",
    "obst = pd.DataFrame({'typ': typ, 'form': form, 'farbe': farbe, 'gewicht': gewicht})"
   ]
  },
  {
   "cell_type": "code",
   "execution_count": 25,
   "metadata": {
    "collapsed": false,
    "scrolled": true
   },
   "outputs": [
    {
     "name": "stdout",
     "output_type": "stream",
     "text": [
      "   farbe  form  gewicht  typ\n",
      "0      0     0      155    0\n",
      "1      1     0      261    1\n",
      "2      0     0      184    0\n",
      "3      2     0      223    0\n",
      "4      0     0      157    0\n",
      "5      0     0      220    0\n",
      "6      1     0      288    1\n",
      "7      1     0      284    1\n",
      "8      1     0      184    1\n",
      "9      0     0      171    0\n",
      "\n",
      "     farbe  form  gewicht  typ\n",
      "832      0     0      150    0\n",
      "509      0     0      150    0\n",
      "726      0     0      150    0\n",
      "627      2     0      150    0\n",
      "173      0     0      150    0\n",
      "483      0     0      150    0\n",
      "407      0     0      151    0\n",
      "592      2     0      151    0\n",
      "950      0     0      151    0\n",
      "908      1     0      151    1\n",
      "     farbe  form  gewicht  typ\n",
      "377      1     0      299    1\n",
      "861      1     0      299    1\n",
      "516      1     0      299    1\n",
      "550      1     0      299    1\n",
      "365      1     0      298    1\n",
      "430      1     0      298    1\n",
      "733      2     0      298    0\n",
      "371      1     0      298    1\n",
      "451      1     0      298    1\n",
      "668      1     0      298    1\n"
     ]
    }
   ],
   "source": [
    "# Jetzt können wir uns den Datensatz anschauen\n",
    "\n",
    "print(obst.head(10))\n",
    "print()\n",
    "print(obst.sort_values(by='gewicht').head(10))\n",
    "print()\n",
    "print(obst.sort_values(by='gewicht', ascending=False).head(10))"
   ]
  },
  {
   "cell_type": "code",
   "execution_count": 26,
   "metadata": {
    "collapsed": false
   },
   "outputs": [
    {
     "name": "stdout",
     "output_type": "stream",
     "text": [
      "             farbe    form     gewicht         typ\n",
      "count  1000.000000  1000.0  1000.00000  1000.00000\n",
      "mean      0.712000     0.0   223.99600     0.49000\n",
      "std       0.653822     0.0    42.26493     0.50015\n",
      "min       0.000000     0.0   150.00000     0.00000\n",
      "25%       0.000000     0.0   189.00000     0.00000\n",
      "50%       1.000000     0.0   222.50000     0.00000\n",
      "75%       1.000000     0.0   260.00000     1.00000\n",
      "max       2.000000     0.0   299.00000     1.00000\n"
     ]
    }
   ],
   "source": [
    "# Statistiken über das Obst bekommt man als integrierte Pandas-Funktion\n",
    "print(obst.describe())"
   ]
  },
  {
   "cell_type": "code",
   "execution_count": 24,
   "metadata": {
    "collapsed": false
   },
   "outputs": [],
   "source": [
    "# Bonus: Wieviele Äpfel sind in dem Datensatz?"
   ]
  },
  {
   "cell_type": "code",
   "execution_count": 27,
   "metadata": {
    "collapsed": false
   },
   "outputs": [
    {
     "data": {
      "text/plain": [
       "LogisticRegression(C=1.0, class_weight=None, dual=False, fit_intercept=True,\n",
       "          intercept_scaling=1, max_iter=100, multi_class='ovr', n_jobs=1,\n",
       "          penalty='l2', random_state=None, solver='liblinear', tol=0.0001,\n",
       "          verbose=0, warm_start=False)"
      ]
     },
     "execution_count": 27,
     "metadata": {},
     "output_type": "execute_result"
    }
   ],
   "source": [
    "X_train = obst[['form', 'farbe', 'gewicht']][0:80]\n",
    "y_train = obst['typ'][0:80]\n",
    "from sklearn.linear_model import LogisticRegression\n",
    "lr = LogisticRegression()\n",
    "lr.fit(X_train, y_train)"
   ]
  },
  {
   "cell_type": "code",
   "execution_count": 28,
   "metadata": {
    "collapsed": false
   },
   "outputs": [],
   "source": [
    "X_test = obst[['form', 'farbe', 'gewicht']][80:]\n",
    "y_test = obst['typ'][80:]\n",
    "prediction = lr.predict(X_test)"
   ]
  },
  {
   "cell_type": "code",
   "execution_count": 30,
   "metadata": {
    "collapsed": false
   },
   "outputs": [
    {
     "data": {
      "text/plain": [
       "106"
      ]
     },
     "execution_count": 30,
     "metadata": {},
     "output_type": "execute_result"
    }
   ],
   "source": [
    "sum(abs(y_test - prediction))"
   ]
  },
  {
   "cell_type": "code",
   "execution_count": null,
   "metadata": {
    "collapsed": true
   },
   "outputs": [],
   "source": []
  }
 ],
 "metadata": {
  "kernelspec": {
   "display_name": "Python 3",
   "language": "python",
   "name": "python3"
  },
  "language_info": {
   "codemirror_mode": {
    "name": "ipython",
    "version": 3
   },
   "file_extension": ".py",
   "mimetype": "text/x-python",
   "name": "python",
   "nbconvert_exporter": "python",
   "pygments_lexer": "ipython3",
   "version": "3.5.2"
  }
 },
 "nbformat": 4,
 "nbformat_minor": 1
}
