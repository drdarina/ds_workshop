{
 "cells": [
  {
   "cell_type": "markdown",
   "metadata": {},
   "source": [
    "# Äpfel und Birnen\n",
    "\n",
    "Und eine Einführung in Python :)"
   ]
  },
  {
   "cell_type": "markdown",
   "metadata": {},
   "source": [
    "Wir arbeiten mit Python 3 in Jupyter Notebook. Notebooks erlauben, \"live\" zu programmieren und die Ergebnisse sofort im Browser zu sehen.\n",
    "\n",
    "Um den Code in einer Zelle auszuführen, drückt man STEUERUNG + ENTER.\n",
    "\n",
    "Um eine neue Zelle zu machen drückt man ESCAPE, danach B (für below) oder A (für above)."
   ]
  },
  {
   "cell_type": "markdown",
   "metadata": {},
   "source": [
    "In dem Code weisen wir der Variable a den Wert 5 zu. Danach lassen wir a auf dem Bildschirm ausgeben. Wir können auch Text auf dem Bildschirm ausgeben, wenn wir ihn in Anführungszeichen setzen."
   ]
  },
  {
   "cell_type": "code",
   "execution_count": null,
   "metadata": {
    "collapsed": false
   },
   "outputs": [],
   "source": [
    "a = 5\n",
    "print('Der Wert von a ist:')\n",
    "print(a)"
   ]
  },
  {
   "cell_type": "code",
   "execution_count": null,
   "metadata": {
    "collapsed": true
   },
   "outputs": [],
   "source": [
    "# Das ist ein Kommentar\n",
    "# Zeilen, die kommentiert sind, werden nicht ausgeführt.\n",
    "# So kann man seinen Code erklären"
   ]
  },
  {
   "cell_type": "code",
   "execution_count": null,
   "metadata": {
    "collapsed": false
   },
   "outputs": [],
   "source": [
    "b = 3\n",
    "# wenn wir Variablen Werte zugewiesen haben, können wir damit genauso arbeiten, wie auf Papier.\n",
    "c = a + b\n",
    "d = a / b\n",
    "# wir können {} verwenden, um Werte auszugeben. Damit \"formattiert\" man den String. Hier geben wir den Wert von\n",
    "# c und d nacheinander aus. Was in der .format Funktion drin steht, wird in die geschweiften Klammern eingesetzt,\n",
    "# in der Reihenfolge, in der es kommt. Versucht mal, c und d durch a und b zu ersetzen, was passiert?\n",
    "print('c = {} und d = {}'.format(c, d))"
   ]
  },
  {
   "cell_type": "code",
   "execution_count": null,
   "metadata": {
    "collapsed": true
   },
   "outputs": [],
   "source": [
    "# Man beachte, dass a und b ganze Zahlen (integer) waren, aber d durch die Division eine Kommazahl (float) ist!"
   ]
  },
  {
   "cell_type": "code",
   "execution_count": null,
   "metadata": {
    "collapsed": true
   },
   "outputs": [],
   "source": [
    "# Python ist eine Pogrammiersprache und Jupyter eine Programmieroberfläche.\n",
    "# Python enthält sehr viele Funktionen, die man benutzen muss. Diese sind in Paketen zusammegefasst. Diese Pakete\n",
    "# kann (und muss) man laden, wenn man Funktionen benutzen muss.\n",
    "# Wenn man auf Reisen geht, nimmt man auch nicht den gesamten Kleiderschrank mit, sondern trifft eine Auswahl von\n",
    "# Kleidung, die man für die Situation brauchen wird. So bleibt der Koffer leicht!\n",
    "\n",
    "# Numpy, um Mathe zu machen\n",
    "import numpy as np\n",
    "# Die folgenden Importe sind für Grafiken:\n",
    "import matplotlib.pyplot as plt\n",
    "import seaborn as sns\n",
    "%matplotlib inline"
   ]
  },
  {
   "cell_type": "code",
   "execution_count": null,
   "metadata": {
    "collapsed": false
   },
   "outputs": [],
   "source": [
    "# Jetzt können wir mathematische Funktionen aus Numpy benutzen! Diese bekommen immer den Prefix np.\n",
    "d = np.sqrt(c)\n",
    "print('Ups, wir haben d überschrieben! Jetzt ist d = {}.'.format(d))"
   ]
  },
  {
   "cell_type": "code",
   "execution_count": null,
   "metadata": {
    "collapsed": true
   },
   "outputs": [],
   "source": [
    "# Wenn man den Funktionsnamen nicht raten kann, hilft Gooogle weiter.\n",
    "# Übung: was ist der 2-er Logarithmus von Wurzel c?\n",
    "# (Man findet online verschiedene Lösungen, nehmt doch bitte die mit Numpy!)"
   ]
  },
  {
   "cell_type": "code",
   "execution_count": null,
   "metadata": {
    "collapsed": false
   },
   "outputs": [],
   "source": [
    "# Wir werden mit Matrizen arbeiten. Eine Matrix ist nichts anderes als ne Liste von Zeilen. Diese werden in numpy\n",
    "# als ein sogenanntes array gespeichert.\n",
    "# Wer schon mal mit Matlab gearbeitet hat, kann sich entspannen, denn numpy funktioniert fast genauso.\n",
    "\n",
    "# Hier haben wir mal die Obst-Werte als array abgespeichert\n",
    "# in jeder Spalte steht eine der Eigenschaften: Obsttyp, Form, Farbe, Gewicht\n",
    "# In jeder Zeile ist ein Exemplar\n",
    "\n",
    "obst = np.array([[0, 200, 0, 0], \n",
    "                 [1, 220, 2, 1], \n",
    "                 [1, 180, 2, 1], \n",
    "                 [0, 200, 1, 0], \n",
    "                 [0, 210, 0, 0]])\n",
    "\n",
    "print(obst)\n",
    "\n",
    "# Bonus: Wie transponiert man diese Matrix?"
   ]
  },
  {
   "cell_type": "code",
   "execution_count": null,
   "metadata": {
    "collapsed": false
   },
   "outputs": [],
   "source": [
    "# Die Zeilen- und Spaltenbeschriftungen sind wichtig, weshalb wir die gerne mit speichern würden. Data Scientists\n",
    "# arbeiten viel mit einem speziellen Datenformat: DataFrame, das im Paket pandas enthalten ist.\n",
    "\n",
    "import pandas as pd\n",
    "obst = pd.DataFrame([[0, 200, 0, 0], \n",
    "                     [1, 220, 2, 1], \n",
    "                     [1, 180, 2, 1], \n",
    "                     [0, 200, 1, 0], \n",
    "                     [0, 210, 0, 0]],\n",
    "                   columns=['type', 'weight', 'color', 'form'])\n",
    "print(obst)\n",
    "\n",
    "# Damit können wir (fast) genauso arbeiten, wie mit einer Matrix, aber wir vergessen nie, was was ist!"
   ]
  },
  {
   "cell_type": "code",
   "execution_count": null,
   "metadata": {
    "collapsed": true
   },
   "outputs": [],
   "source": [
    "# Bonus: In dieser Zelle erstellen wir einen künstlichen Datensatz. \n",
    "# Wer das nicht nachvollziehen will, kann den Code ausführen und überspringen.\n",
    "\n",
    "# Wir generieren Zufallsdaten mit den Bedinungen\n",
    "# 50% der Äpfel sind rot, 20% grün und 30% gelb\n",
    "# 100% der Äpfel sind rund\n",
    "# 50% der Birnen sind grün, 50% sind gelb\n",
    "# 90% der Birnen sind länglich, 10% sind rund\n",
    "# Sowohl Äpfel als auch Birnen können zwischen 150 und 300 gramm wiegen\n",
    "\n",
    "# zufallszahl 0 oder 1\n",
    "typ = np.random.randint(0, 2, size=1000)\n",
    "\n",
    "# zufallszahl zwishen 150 und 300\n",
    "gewicht = np.random.randint(150, 300, size=1000)\n",
    "\n",
    "form = np.random.random(size=1000)\n",
    "form[np.where(typ==0)] = 0\n",
    "form[np.where((typ==1)&(form>.9))] = 0\n",
    "form = np.where(form>0, 1, 0)\n",
    "\n",
    "farbe = np.random.random(size=1000)\n",
    "farbe[np.where((typ==0)&(farbe<=0.5))]=0\n",
    "farbe[np.where((typ==0)&(farbe>0.8))]=2\n",
    "farbe[np.where((typ==1)&(farbe<=0.5))]=2\n",
    "farbe[np.where((typ==1)&(farbe>0.5))]=1\n",
    "farbe = farbe.astype('int')\n",
    "\n",
    "# das Ganze wird als Dataframe gespeichert\n",
    "obst = pd.DataFrame({'typ': typ, 'form': form, 'farbe': farbe, 'gewicht': gewicht})"
   ]
  },
  {
   "cell_type": "code",
   "execution_count": null,
   "metadata": {
    "collapsed": false,
    "scrolled": true
   },
   "outputs": [],
   "source": [
    "# Jetzt können wir uns den Datensatz anschauen\n",
    "\n",
    "print(obst.head(10))\n",
    "print()\n",
    "print(obst.sort_values(by='gewicht').head(10))\n",
    "print()\n",
    "print(obst.sort_values(by='gewicht', ascending=False).head(10))"
   ]
  },
  {
   "cell_type": "code",
   "execution_count": null,
   "metadata": {
    "collapsed": false
   },
   "outputs": [],
   "source": [
    "# Statistiken über das Obst bekommt man als integrierte Pandas-Funktion\n",
    "print(obst.describe())"
   ]
  },
  {
   "cell_type": "code",
   "execution_count": null,
   "metadata": {
    "collapsed": false
   },
   "outputs": [],
   "source": [
    "# Man muss aber auch nicht immer print benutzen! Ein Vorteil von Jupyter ist, dass die letzte Zeile immer automatisch\n",
    "# am Bildschirm ausgegeben wird. Dann ist das Format meistens etwas besser.\n",
    "\n",
    "obst.describe()"
   ]
  },
  {
   "cell_type": "code",
   "execution_count": null,
   "metadata": {
    "collapsed": true
   },
   "outputs": [],
   "source": [
    "# Bonus: Wieviel wiegt das ganze Obst?\n",
    "# Bonus: Wieviele Äpfel sind in dem Datensatz? Wiegen Äpfel mehr als Birnen?"
   ]
  },
  {
   "cell_type": "code",
   "execution_count": null,
   "metadata": {
    "collapsed": false
   },
   "outputs": [],
   "source": [
    "# Daten lassen sich graphisch oft leichter auswerten. Wir plotten ein Histogramm der verschiedenen Werte. Mit Pandas\n",
    "# geht das ganz einfach durch eine eingebaute Funktion:\n",
    "\n",
    "obst.gewicht.hist(bins=50)\n",
    "plt.title('Gewichtsverteilung')\n",
    "#neues Bild\n",
    "plt.figure()\n",
    "obst.farbe.hist()\n",
    "plt.title('Verteilung nach Farben')\n",
    "\n",
    "# Wir haben die Verteilungen selbst vorgegeben. Passt das?"
   ]
  },
  {
   "cell_type": "markdown",
   "metadata": {},
   "source": [
    "# Logistische Regression"
   ]
  },
  {
   "cell_type": "code",
   "execution_count": null,
   "metadata": {
    "collapsed": true
   },
   "outputs": [],
   "source": [
    "# Wir nehmen die ersten 800 Zeilen aus dem Datensatz als Trainingsdaten. Die letzten 200 Zeilen sind Testdaten, um\n",
    "# zu überprüfen, um unser Modell was vernünftiges gelernt hat.\n",
    "X_train = obst[['form', 'farbe', 'gewicht']][0:800]\n",
    "y_train = obst['typ'][0:800]\n",
    "\n",
    "X_test = obst[['form', 'farbe', 'gewicht']][800:]\n",
    "y_test = obst['typ'][800:]"
   ]
  },
  {
   "cell_type": "code",
   "execution_count": null,
   "metadata": {
    "collapsed": false
   },
   "outputs": [],
   "source": [
    "# Es gibt ein Paket namens sklearn, das die meisten üblichen Data Science Modelle bietet. Man kann damit sehr weit\n",
    "# kommen!\n",
    "# Wir importieren die Logistische Regression\n",
    "from sklearn.linear_model import LogisticRegression\n",
    "# Dann initiieren wir eine Instanz der LogReg\n",
    "lr = LogisticRegression()\n",
    "# Diese hat eine funkition fit - wir fitten die LogReg an die Trainingsdaten (bzw. Sklearn und Python machen das für\n",
    "# uns). Man spricht auch davon, ein Modell auf den Daten zu trainieren. (Deswegen X_train)\n",
    "lr.fit(X_train, y_train)"
   ]
  },
  {
   "cell_type": "markdown",
   "metadata": {},
   "source": [
    "Weil es ein einfaches Modell war und der Datensatz auch nicht sehr groß ist, ging das sehr schnell. Es kann auch schon mal mehrere Tage dauern!"
   ]
  },
  {
   "cell_type": "code",
   "execution_count": null,
   "metadata": {
    "collapsed": false
   },
   "outputs": [],
   "source": [
    "# Nun wollen wir unser Modell testen. Dafür lassen wir unser Modell für den Testdatensatz vorhersagen, ob es sich um\n",
    "# Äpfel oder Birnen handelt. Das können wir dann mit der richtigen Antwort vergleichen, die in y_test gespeichert ist.\n",
    "\n",
    "prediction = lr.predict(X_test)\n",
    "print(prediction)\n",
    "print()\n",
    "print(y_test.values)\n",
    "\n",
    "# Das Modell gibt uns nicht nur eine Vorhersage, ob es sich um einen Apfel oder eine Birne handelt, sondern auch\n",
    "# wie sicher es sich ist.\n",
    "\n",
    "p_birne = lr.predict_proba(X_test)[:,1]\n",
    "\n",
    "print()\n",
    "print(p_birne)"
   ]
  },
  {
   "cell_type": "code",
   "execution_count": null,
   "metadata": {
    "collapsed": true
   },
   "outputs": [],
   "source": [
    "# Wie können wir entscheiden, ob es sich um ein gutes oder schlechtes Modell handelt?"
   ]
  },
  {
   "cell_type": "code",
   "execution_count": null,
   "metadata": {
    "collapsed": false
   },
   "outputs": [],
   "source": [
    "from sklearn.metrics import confusion_matrix\n",
    "tn, fp, fn, tp = confusion_matrix(y_test, prediction).ravel()\n",
    "print('True positives: \\t{}\\nTrue negatives: \\t{}\\nFalse positives: \\t{}\\nFalse negatives:\\t{}'.format(tp, tn, fp, fn))\n",
    "# Man beachte, dass wir hier die ganze Zeit von Birnen sprechen!"
   ]
  },
  {
   "cell_type": "markdown",
   "metadata": {},
   "source": [
    "Wir können sehr viele verschiedene Methoden der Auswertung finden, aber wir müssen trotzdem selbst entscheiden, ob das Modell gut genug ist!\n",
    "\n",
    "Man betrachtet dafür oft Sensitivität und Spezifizität, was viele auch schon aus dem Studium kennen sollten. Anders nennt man das auch (leichter zu merken) true positive rate und true negative rate.\n",
    "https://en.wikipedia.org/wiki/Sensitivity_and_specificity"
   ]
  },
  {
   "cell_type": "code",
   "execution_count": null,
   "metadata": {
    "collapsed": true
   },
   "outputs": [],
   "source": [
    "# Übung\n",
    "# Man betrachtet in der Regel nicht die Stück- sondern die Prozenzahlen. Diese wollen wir nun berechnen.\n",
    "\n",
    "# True negative rate: Wenn wir \"Birne\" geraten haben, wie oft war es wirklich eine Birne?\n",
    "# tnr = true positives / all positive guesses\n",
    "\n",
    "# True positive rate: Wieviele der Birnen aus dem Datensatz haben wir gefunden?\n",
    "# tpr = true postivies / total true objects in the dataset\n",
    "\n",
    "# Wie würden wir das formulieren, wenn unser Algorithmus Karies entdecken würde? Welche Anforderungen würden wir an\n",
    "# einen Algorithmus haben?"
   ]
  }
 ],
 "metadata": {
  "kernelspec": {
   "display_name": "Python 3",
   "language": "python",
   "name": "python3"
  },
  "language_info": {
   "codemirror_mode": {
    "name": "ipython",
    "version": 3
   },
   "file_extension": ".py",
   "mimetype": "text/x-python",
   "name": "python",
   "nbconvert_exporter": "python",
   "pygments_lexer": "ipython3",
   "version": "3.5.2"
  }
 },
 "nbformat": 4,
 "nbformat_minor": 1
}
