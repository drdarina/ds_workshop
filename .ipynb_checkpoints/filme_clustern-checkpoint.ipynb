{
 "cells": [
  {
   "cell_type": "markdown",
   "metadata": {},
   "source": [
    "# Filme in Cluster zusammenfassen"
   ]
  },
  {
   "cell_type": "code",
   "execution_count": null,
   "metadata": {
    "collapsed": true
   },
   "outputs": [],
   "source": [
    "# wie zuvor importieren wir Pakete, die wir auf jeden Fall brauchen werden\n",
    "\n",
    "import numpy as np\n",
    "import pandas as pd\n",
    "import matplotlib.pyplot as plt\n",
    "import seaborn as sns\n",
    "%matplotlib inline"
   ]
  },
  {
   "cell_type": "code",
   "execution_count": null,
   "metadata": {
    "collapsed": false
   },
   "outputs": [],
   "source": [
    "# Datensatz laden\n",
    "genre_data = pd.read_csv('workshop_movie_genres.csv')\n",
    "genre_data = genre_data.fillna(0)\n",
    "genre_data.head()"
   ]
  },
  {
   "cell_type": "code",
   "execution_count": null,
   "metadata": {
    "collapsed": false
   },
   "outputs": [],
   "source": [
    "genre_data.describe()"
   ]
  },
  {
   "cell_type": "code",
   "execution_count": null,
   "metadata": {
    "collapsed": true
   },
   "outputs": [],
   "source": [
    "# Liste von allen Genrenamen aus den Spaltennamen erzeugen\n",
    "genres = [i for i in genre_data.columns if i not in ['title', 'movie_id', 'year', 'imdb', 'rotten_tomatoes']]\n",
    "X = genre_data[genres]"
   ]
  },
  {
   "cell_type": "code",
   "execution_count": null,
   "metadata": {
    "collapsed": false
   },
   "outputs": [],
   "source": [
    "# Auch Kmeans ist in Sklearn enthalten!\n",
    "from sklearn.cluster import KMeans\n",
    "kmeans = KMeans(n_clusters=2)\n",
    "kmeans.fit(X)"
   ]
  },
  {
   "cell_type": "code",
   "execution_count": null,
   "metadata": {
    "collapsed": false
   },
   "outputs": [],
   "source": [
    "# Wir schauen uns an, welche Filme zu einem Cluster zusammgefasst wurden\n",
    "# die Clusterlabels sind in unserem kmeans Modell gespeichert\n",
    "labels = kmeans.labels_\n",
    "# die nächste Zeile fügt dem DataFrame eine neue Spalte 'cluster' hinzu, deren Werte die Labels sind\n",
    "genre_data['cluster'] = labels\n",
    "for i in range(2):\n",
    "    print('Cluster {}:'.format(i))\n",
    "    print(genre_data[genre_data.cluster==i].title)\n",
    "    print()"
   ]
  },
  {
   "cell_type": "code",
   "execution_count": null,
   "metadata": {
    "collapsed": true
   },
   "outputs": [],
   "source": [
    "# übung\n",
    "# Wie ändert es sich, wenn wir 3, 4, 5 cluster nehmen? Was ist eine gute Zahl?\n",
    "# Bonus: Wir müssen die Clusterzahl immer an zwei Stellen ändern. Kann man das effizienter machen?\n",
    "\n",
    "# Was passiert, wenn wir den gleichen Algorithmus mit der gleichen Clusterzahl nochmal durchlaufen lassen? Warum? "
   ]
  },
  {
   "cell_type": "code",
   "execution_count": null,
   "metadata": {
    "collapsed": true
   },
   "outputs": [],
   "source": [
    "# Wir speichern die Filmdaten zusammen mit dem Clusterlabel\n",
    "# Dafür gibt es wieder eine Pandas-Funktion\n",
    "genre_data.to_csv('filme_mit_cluster.csv')"
   ]
  },
  {
   "cell_type": "code",
   "execution_count": null,
   "metadata": {
    "collapsed": true
   },
   "outputs": [],
   "source": [
    "# übung\n",
    "# Wir könnten auch genauso gut Userdata clustern!\n",
    "# Die Datei heißt 'workshop_user_ratings.csv'\n",
    "# Viel Spaß!"
   ]
  }
 ],
 "metadata": {
  "kernelspec": {
   "display_name": "Python 3",
   "language": "python",
   "name": "python3"
  },
  "language_info": {
   "codemirror_mode": {
    "name": "ipython",
    "version": 3
   },
   "file_extension": ".py",
   "mimetype": "text/x-python",
   "name": "python",
   "nbconvert_exporter": "python",
   "pygments_lexer": "ipython3",
   "version": "3.5.2"
  }
 },
 "nbformat": 4,
 "nbformat_minor": 1
}
