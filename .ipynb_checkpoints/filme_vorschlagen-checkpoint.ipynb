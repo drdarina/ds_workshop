{
 "cells": [
  {
   "cell_type": "code",
   "execution_count": null,
   "metadata": {
    "collapsed": true
   },
   "outputs": [],
   "source": [
    "import numpy as np\n",
    "import pandas as pd"
   ]
  },
  {
   "cell_type": "code",
   "execution_count": null,
   "metadata": {
    "collapsed": false
   },
   "outputs": [],
   "source": [
    "# wir laden unsere ratings und unsere genres\n",
    "ratings = pd.read_csv('workshop_user_ratings.csv')\n",
    "genres = pd.read_csv('workshop_movie_genres.csv')"
   ]
  },
  {
   "cell_type": "markdown",
   "metadata": {},
   "source": [
    "Zur Erinnerung: So sah unser Datensatz aus\n",
    "https://docs.google.com/spreadsheets/d/1NWclk85CM0m35G60C6Ykgtt_EgSVosvvSIFWzpR4myY/edit?usp=sharing"
   ]
  },
  {
   "cell_type": "code",
   "execution_count": null,
   "metadata": {
    "collapsed": false
   },
   "outputs": [],
   "source": [
    "# dieser Datensatz ist eine bearbeitete Kopie der Tabelle auf dem Google Drive. Was hat sich geändert? Warum?\n",
    "# Reminder: es geht von 1 bis 5, missing Values wurden durch 0 ersetzt\n",
    "ratings"
   ]
  },
  {
   "cell_type": "markdown",
   "metadata": {},
   "source": [
    "Die Filmtitel stehen nicht drin. Diese sind durch ihre ID mit den Filmtiteln im Genres-Datensatz verknüpft."
   ]
  },
  {
   "cell_type": "code",
   "execution_count": null,
   "metadata": {
    "collapsed": false
   },
   "outputs": [],
   "source": [
    "# Wir brauchen eine Matrix, die nur die Ratings enthält\n",
    "# Jede Zeile ist ein User und jede Spalte ist ein Film\n",
    "rating_cols = list(genres.movie_id)\n",
    "ratings_matrix = ratings[rating_cols].as_matrix()"
   ]
  },
  {
   "cell_type": "markdown",
   "metadata": {},
   "source": [
    "Wir wollen nun die Cosine Similarity zwischen den Usern berechnen, nach der Formel\n",
    "\n",
    "$$sim_{cos}(u_1, u_2) = \\frac{u_1u_2}{|u_1||u_2|}$$\n",
    "\n",
    "$|u_1|$ ist hier die Euklidische Norm.\n",
    "\n",
    "Natürlich ist das längst für uns in sklearn implementiert."
   ]
  },
  {
   "cell_type": "code",
   "execution_count": null,
   "metadata": {
    "collapsed": true
   },
   "outputs": [],
   "source": [
    "from sklearn.metrics.pairwise import pairwise_distances\n",
    "user_similarity = pairwise_distances(ratings_matrix, metric='cosine')"
   ]
  },
  {
   "cell_type": "code",
   "execution_count": null,
   "metadata": {
    "collapsed": false
   },
   "outputs": [],
   "source": [
    "# Wir können diese Matrix plotten, um zu sehen, wie ähnlich sich die User sind\n",
    "# Je geringer der Wert, desto ähnlicher!\n",
    "import seaborn as sns\n",
    "import matplotlib.pyplot as plt\n",
    "%matplotlib inline\n",
    "\n",
    "plt.figure(figsize=(10,10))\n",
    "sns.heatmap(user_similarity)\n",
    "plt.xlabel('User id')\n",
    "plt.ylabel('User id')\n",
    "plt.title('Cosine Similarity der User. Je dunkler, desto ähnlicher.')"
   ]
  },
  {
   "cell_type": "markdown",
   "metadata": {},
   "source": [
    "Nun wollen wir vorhersagen, wie sehr unseren Usern andere Filme gefallen könnten. Die Wahrscheinlichkeit, dass User k Film j mag ist:\n",
    "\n",
    "$$p(k,j) = \\bar x_k + \\frac {\\sum_u sim_{cos}(u_k, u_i)(x_{i,j} - \\bar x_i)}{\\sum_u| sim_{cos}(u_k, u_i)|}$$\n",
    "\n",
    "$\\bar x_k$: durchschnittliches Rating von user k\n",
    "$x_{i,j}$: Rating von User i über Film j"
   ]
  },
  {
   "cell_type": "code",
   "execution_count": null,
   "metadata": {
    "collapsed": false
   },
   "outputs": [],
   "source": [
    "# Wir setzen die obere Formel matrixweise um:\n",
    "\n",
    "# berechne durchschnittliches Rating\n",
    "mean_user_rating = ratings_matrix.mean(axis=1)\n",
    "\n",
    "# berechne die Differenz von jedem Rating von jedem User zu seinem durchschnittlichen Rating\n",
    "ratings_diff = (ratings_matrix - mean_user_rating[:, np.newaxis])\n",
    "\n",
    "# berechne den Zähler des Bruchs\n",
    "zaehler = user_similarity.dot(ratings_diff)\n",
    "\n",
    "# berechne den Nenner\n",
    "nenner = np.array([np.abs(user_similarity).sum(axis=1)]).T\n",
    "\n",
    "# zusammenfügen\n",
    "prediction = mean_user_rating[:, np.newaxis] +  zaehler / nenner"
   ]
  },
  {
   "cell_type": "code",
   "execution_count": null,
   "metadata": {
    "collapsed": false
   },
   "outputs": [],
   "source": [
    "# Schließlich schreiben wir das wieder in ein Dataframe, damit wir uns die Ergebnisse anschauen können\n",
    "user_prediction = pd.DataFrame(prediction, index=ratings.user_id, columns=genres.title)"
   ]
  },
  {
   "cell_type": "code",
   "execution_count": null,
   "metadata": {
    "collapsed": false
   },
   "outputs": [],
   "source": [
    "user_prediction.loc['user1']"
   ]
  },
  {
   "cell_type": "code",
   "execution_count": null,
   "metadata": {
    "collapsed": false
   },
   "outputs": [],
   "source": [
    "# wir wollen nur Filme vorschlagen, die der User noch nicht gesehen hat\n",
    "# das steht in dem ursprünglichen DataFrame, in dem jeder User eine Zeile war\n",
    "ratings.loc[ratings.user_id=='user1']"
   ]
  },
  {
   "cell_type": "code",
   "execution_count": null,
   "metadata": {
    "collapsed": false
   },
   "outputs": [],
   "source": [
    "user_id = 'user1'\n",
    "\n",
    "# hier wird ein Dataframe mit den relevanten Informationen erzeugt. Das ist etwas umständlich und ihr müsst es nicht\n",
    "# wirklich nachvollziehen. user_id ist eine Variable, die ausgetauscht werden kann.\n",
    "prediction_for_user = pd.DataFrame(columns=['title', 'rating', 'seen', 'prediction'])\n",
    "prediction_for_user['title'] = user_prediction.columns.values\n",
    "prediction_for_user['rating'] = ratings.loc[ratings.user_id==user_id].values[0][1:]\n",
    "prediction_for_user['prediction'] = user_prediction.loc[user_id].values\n",
    "prediction_for_user['seen'] = np.where(prediction_for_user.rating > 0, 1, 0)\n",
    "\n",
    "print('Wir können {} aus den folgenden Filmen einen empfehlen:'.format(user_id))\n",
    "prediction_for_user[prediction_for_user.seen==0][['title', 'prediction']].sort_values(by='prediction', ascending=False)"
   ]
  },
  {
   "cell_type": "markdown",
   "metadata": {},
   "source": [
    "Übung: Statt Userähnlichkeit könnten wir auch die Filmähnlichkeit betrachten. Die Wahrscheinlichkeit, dass User k Film j mag, ergibt sich aus:\n",
    "\n",
    "$$p(k, j) = \\frac {\\sum_m sim_{cos}(m_i, m_j)x_{k,i}}{\\sum_m | sim_{cos}(m_i, m_j)|}$$\n",
    "\n",
    "$x_{k,i}$: Rating von User k über Film i\n",
    "\n",
    "$m_k$: Ratingvektor von movie k"
   ]
  },
  {
   "cell_type": "code",
   "execution_count": null,
   "metadata": {
    "collapsed": false
   },
   "outputs": [],
   "source": [
    "# Übung: Statt Userähnlichkeit könnten wir auch die Filmähnlichkeit betrachten.\n",
    "# Berechne dafür zunächst cosine distances zwischen den Filmen (die Matrix sollte 25*25 sein)\n",
    "movie_similarity = \n",
    "\n",
    "# Kann man sich auch als Heatmap plotten, wenn man will. Wenn man das Ganze erst noch als Dataframe umschreibt,\n",
    "# bekommt man die Annotation gratis dazu.\n",
    "# Sind wir mit diesem Ergebnis zufrieden? Wenn nicht, woran könnte es liegen, dass unsere Ergebnisse nicht \n",
    "# ganz so gut sind?\n",
    "plt.figure(figsize=(15,15))\n",
    "ms = pd.DataFrame(movie_similarity, columns = genres.title, index=genres.title)\n",
    "sns.heatmap(ms)"
   ]
  },
  {
   "cell_type": "code",
   "execution_count": null,
   "metadata": {
    "collapsed": true
   },
   "outputs": [],
   "source": [
    "# Nun berechnen wir den dot product der rating matrix und der movie similarity matrix\n",
    "zaehler = \n",
    "\n",
    "# Das Ganze teilen wir dann durch die Summe aller movie similarities (siehe oben...)\n",
    "\n",
    "nenner = "
   ]
  },
  {
   "cell_type": "code",
   "execution_count": null,
   "metadata": {
    "collapsed": true
   },
   "outputs": [],
   "source": [
    "item_based_prediction = zaehler / nenner\n",
    "item_prediction = pd.DataFrame(item_pred, index=ratings.user_id, columns=genres.title)"
   ]
  },
  {
   "cell_type": "code",
   "execution_count": null,
   "metadata": {
    "collapsed": false
   },
   "outputs": [],
   "source": [
    "# Hier brauchen wir nicht mehr mit den durchschnittlichen Userwertungen zu normieren, da wir nur noch user k betrachten\n",
    "item_pred = ratings_matrix.dot(movie_similarity) / np.array([np.abs(movie_similarity).sum(axis=1)])"
   ]
  },
  {
   "cell_type": "code",
   "execution_count": null,
   "metadata": {
    "collapsed": false
   },
   "outputs": [],
   "source": [
    "item_prediction = pd.DataFrame(item_pred, index=ratings.user_id, columns=genres.title)"
   ]
  },
  {
   "cell_type": "code",
   "execution_count": null,
   "metadata": {
    "collapsed": false
   },
   "outputs": [],
   "source": [
    "item_prediction.loc['user1']"
   ]
  },
  {
   "cell_type": "markdown",
   "metadata": {},
   "source": [
    "# Bonus\n",
    "Falls noch Zeit da ist... Wir haben ja auch noch andere Daten über User erhoben."
   ]
  },
  {
   "cell_type": "code",
   "execution_count": null,
   "metadata": {
    "collapsed": false
   },
   "outputs": [],
   "source": [
    "data = pd.read_csv('workshop_user_info.csv')\n",
    "data"
   ]
  },
  {
   "cell_type": "code",
   "execution_count": null,
   "metadata": {
    "collapsed": true
   },
   "outputs": [],
   "source": [
    "# Können wir aus den Filmpräferenzen das Alter und das Geschlecht der Teilnehmer vorhersagen? Ihre Koriandervorlieben?\n",
    "# Sollten wir Alter und Geschlecht in die Ähnlichkeitsmatrix einfließen lassen? Wie?\n",
    "# Überlegt euch zunächst, in welcher Form ihr die Daten für euer Experiment braucht. Dann könnt ihr gerne um Hilfe fragen,\n",
    "# um die Daten zusammenzufügen. Oder einen Shortcut nehmen und Excel o. Ä. benutzen, um das schnell selbst zu\n",
    "# machen :)"
   ]
  },
  {
   "cell_type": "code",
   "execution_count": null,
   "metadata": {
    "collapsed": true
   },
   "outputs": [],
   "source": []
  }
 ],
 "metadata": {
  "kernelspec": {
   "display_name": "Python 3",
   "language": "python",
   "name": "python3"
  },
  "language_info": {
   "codemirror_mode": {
    "name": "ipython",
    "version": 3
   },
   "file_extension": ".py",
   "mimetype": "text/x-python",
   "name": "python",
   "nbconvert_exporter": "python",
   "pygments_lexer": "ipython3",
   "version": "3.5.2"
  }
 },
 "nbformat": 4,
 "nbformat_minor": 1
}
