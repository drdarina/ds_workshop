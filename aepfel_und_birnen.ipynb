{
 "cells": [
  {
   "cell_type": "markdown",
   "metadata": {},
   "source": [
    "# Äpfel und Birnen"
   ]
  },
  {
   "cell_type": "code",
   "execution_count": 1,
   "metadata": {
    "collapsed": true
   },
   "outputs": [],
   "source": [
    "import numpy as np\n",
    "import pandas as pd\n",
    "\n",
    "# Die folgenden Importe sind für Grafiken:\n",
    "import matplotlib.pyplot as plt\n",
    "import seaborn as sns\n",
    "%matplotlib inline"
   ]
  },
  {
   "cell_type": "code",
   "execution_count": 2,
   "metadata": {
    "collapsed": true
   },
   "outputs": [],
   "source": [
    "# Bonus: In dieser Zelle erstellen wir einen künstlichen Datensatz. \n",
    "# Wer das nicht nachvollziehen will, kann den Code ausführen und überspringen.\n",
    "\n",
    "# Wir generieren Zufallsdaten mit den Bedinungen\n",
    "# 50% der Äpfel sind rot, 20% grün und 30% gelb\n",
    "# 100% der Äpfel sind rund\n",
    "# 50% der Birnen sind grün, 50% sind gelb\n",
    "# 90% der Birnen sind länglich, 10% sind rund\n",
    "# Sowohl Äpfel als auch Birnen können zwischen 150 und 300 gramm wiegen\n",
    "\n",
    "# zufallszahl 0 oder 1\n",
    "typ = np.random.randint(0, 2, size=1000)\n",
    "\n",
    "# zufallszahl zwishen 150 und 300\n",
    "gewicht = np.random.randint(150, 300, size=1000)\n",
    "\n",
    "form = np.random.random(size=1000)\n",
    "form[np.where(typ==0)] = 0\n",
    "form[np.where((typ==1)&(form>.9))] = 0\n",
    "form = np.where(form>0, 1, 0)\n",
    "\n",
    "farbe = np.random.random(size=1000)\n",
    "farbe[np.where((typ==0)&(farbe<=0.5))]=0\n",
    "farbe[np.where((typ==0)&(farbe>0.8))]=2\n",
    "farbe[np.where((typ==1)&(farbe<=0.5))]=2\n",
    "farbe[np.where((typ==1)&(farbe>0.5))]=1\n",
    "farbe = farbe.astype('int')\n",
    "\n",
    "# das Ganze wird als Dataframe gespeichert\n",
    "obst = pd.DataFrame({'typ': typ, 'form': form, 'farbe': farbe, 'gewicht': gewicht})"
   ]
  },
  {
   "cell_type": "code",
   "execution_count": 6,
   "metadata": {
    "collapsed": false
   },
   "outputs": [
    {
     "data": {
      "text/html": [
       "<div>\n",
       "<table border=\"1\" class=\"dataframe\">\n",
       "  <thead>\n",
       "    <tr style=\"text-align: right;\">\n",
       "      <th></th>\n",
       "      <th>farbe</th>\n",
       "      <th>form</th>\n",
       "      <th>gewicht</th>\n",
       "      <th>typ</th>\n",
       "    </tr>\n",
       "  </thead>\n",
       "  <tbody>\n",
       "    <tr>\n",
       "      <th>0</th>\n",
       "      <td>0</td>\n",
       "      <td>0</td>\n",
       "      <td>252</td>\n",
       "      <td>0</td>\n",
       "    </tr>\n",
       "    <tr>\n",
       "      <th>1</th>\n",
       "      <td>0</td>\n",
       "      <td>0</td>\n",
       "      <td>178</td>\n",
       "      <td>0</td>\n",
       "    </tr>\n",
       "    <tr>\n",
       "      <th>2</th>\n",
       "      <td>1</td>\n",
       "      <td>1</td>\n",
       "      <td>292</td>\n",
       "      <td>1</td>\n",
       "    </tr>\n",
       "    <tr>\n",
       "      <th>3</th>\n",
       "      <td>1</td>\n",
       "      <td>1</td>\n",
       "      <td>253</td>\n",
       "      <td>1</td>\n",
       "    </tr>\n",
       "    <tr>\n",
       "      <th>4</th>\n",
       "      <td>1</td>\n",
       "      <td>1</td>\n",
       "      <td>253</td>\n",
       "      <td>1</td>\n",
       "    </tr>\n",
       "    <tr>\n",
       "      <th>5</th>\n",
       "      <td>0</td>\n",
       "      <td>0</td>\n",
       "      <td>178</td>\n",
       "      <td>0</td>\n",
       "    </tr>\n",
       "    <tr>\n",
       "      <th>6</th>\n",
       "      <td>0</td>\n",
       "      <td>0</td>\n",
       "      <td>208</td>\n",
       "      <td>0</td>\n",
       "    </tr>\n",
       "    <tr>\n",
       "      <th>7</th>\n",
       "      <td>0</td>\n",
       "      <td>0</td>\n",
       "      <td>210</td>\n",
       "      <td>0</td>\n",
       "    </tr>\n",
       "    <tr>\n",
       "      <th>8</th>\n",
       "      <td>1</td>\n",
       "      <td>1</td>\n",
       "      <td>178</td>\n",
       "      <td>1</td>\n",
       "    </tr>\n",
       "    <tr>\n",
       "      <th>9</th>\n",
       "      <td>1</td>\n",
       "      <td>1</td>\n",
       "      <td>282</td>\n",
       "      <td>1</td>\n",
       "    </tr>\n",
       "  </tbody>\n",
       "</table>\n",
       "</div>"
      ],
      "text/plain": [
       "   farbe  form  gewicht  typ\n",
       "0      0     0      252    0\n",
       "1      0     0      178    0\n",
       "2      1     1      292    1\n",
       "3      1     1      253    1\n",
       "4      1     1      253    1\n",
       "5      0     0      178    0\n",
       "6      0     0      208    0\n",
       "7      0     0      210    0\n",
       "8      1     1      178    1\n",
       "9      1     1      282    1"
      ]
     },
     "execution_count": 6,
     "metadata": {},
     "output_type": "execute_result"
    }
   ],
   "source": [
    "# Jetzt können wir uns den Datensatz anschauen\n",
    "\n",
    "obst.head(10)"
   ]
  },
  {
   "cell_type": "code",
   "execution_count": 7,
   "metadata": {
    "collapsed": false
   },
   "outputs": [
    {
     "data": {
      "text/html": [
       "<div>\n",
       "<table border=\"1\" class=\"dataframe\">\n",
       "  <thead>\n",
       "    <tr style=\"text-align: right;\">\n",
       "      <th></th>\n",
       "      <th>farbe</th>\n",
       "      <th>form</th>\n",
       "      <th>gewicht</th>\n",
       "      <th>typ</th>\n",
       "    </tr>\n",
       "  </thead>\n",
       "  <tbody>\n",
       "    <tr>\n",
       "      <th>127</th>\n",
       "      <td>0</td>\n",
       "      <td>0</td>\n",
       "      <td>150</td>\n",
       "      <td>0</td>\n",
       "    </tr>\n",
       "    <tr>\n",
       "      <th>792</th>\n",
       "      <td>1</td>\n",
       "      <td>1</td>\n",
       "      <td>150</td>\n",
       "      <td>1</td>\n",
       "    </tr>\n",
       "    <tr>\n",
       "      <th>575</th>\n",
       "      <td>2</td>\n",
       "      <td>0</td>\n",
       "      <td>150</td>\n",
       "      <td>0</td>\n",
       "    </tr>\n",
       "    <tr>\n",
       "      <th>152</th>\n",
       "      <td>0</td>\n",
       "      <td>0</td>\n",
       "      <td>150</td>\n",
       "      <td>0</td>\n",
       "    </tr>\n",
       "    <tr>\n",
       "      <th>553</th>\n",
       "      <td>1</td>\n",
       "      <td>1</td>\n",
       "      <td>150</td>\n",
       "      <td>1</td>\n",
       "    </tr>\n",
       "    <tr>\n",
       "      <th>795</th>\n",
       "      <td>1</td>\n",
       "      <td>1</td>\n",
       "      <td>150</td>\n",
       "      <td>1</td>\n",
       "    </tr>\n",
       "    <tr>\n",
       "      <th>876</th>\n",
       "      <td>0</td>\n",
       "      <td>0</td>\n",
       "      <td>150</td>\n",
       "      <td>0</td>\n",
       "    </tr>\n",
       "    <tr>\n",
       "      <th>937</th>\n",
       "      <td>1</td>\n",
       "      <td>0</td>\n",
       "      <td>151</td>\n",
       "      <td>1</td>\n",
       "    </tr>\n",
       "    <tr>\n",
       "      <th>199</th>\n",
       "      <td>1</td>\n",
       "      <td>1</td>\n",
       "      <td>151</td>\n",
       "      <td>1</td>\n",
       "    </tr>\n",
       "    <tr>\n",
       "      <th>57</th>\n",
       "      <td>1</td>\n",
       "      <td>1</td>\n",
       "      <td>152</td>\n",
       "      <td>1</td>\n",
       "    </tr>\n",
       "  </tbody>\n",
       "</table>\n",
       "</div>"
      ],
      "text/plain": [
       "     farbe  form  gewicht  typ\n",
       "127      0     0      150    0\n",
       "792      1     1      150    1\n",
       "575      2     0      150    0\n",
       "152      0     0      150    0\n",
       "553      1     1      150    1\n",
       "795      1     1      150    1\n",
       "876      0     0      150    0\n",
       "937      1     0      151    1\n",
       "199      1     1      151    1\n",
       "57       1     1      152    1"
      ]
     },
     "execution_count": 7,
     "metadata": {},
     "output_type": "execute_result"
    }
   ],
   "source": [
    "obst.sort_values(by='gewicht', ascending=True).head(10)"
   ]
  },
  {
   "cell_type": "code",
   "execution_count": 8,
   "metadata": {
    "collapsed": false
   },
   "outputs": [
    {
     "data": {
      "text/html": [
       "<div>\n",
       "<table border=\"1\" class=\"dataframe\">\n",
       "  <thead>\n",
       "    <tr style=\"text-align: right;\">\n",
       "      <th></th>\n",
       "      <th>farbe</th>\n",
       "      <th>form</th>\n",
       "      <th>gewicht</th>\n",
       "      <th>typ</th>\n",
       "    </tr>\n",
       "  </thead>\n",
       "  <tbody>\n",
       "    <tr>\n",
       "      <th>count</th>\n",
       "      <td>1000.000000</td>\n",
       "      <td>1000.000000</td>\n",
       "      <td>1000.000000</td>\n",
       "      <td>1000.000000</td>\n",
       "    </tr>\n",
       "    <tr>\n",
       "      <th>mean</th>\n",
       "      <td>0.681000</td>\n",
       "      <td>0.453000</td>\n",
       "      <td>225.232000</td>\n",
       "      <td>0.515000</td>\n",
       "    </tr>\n",
       "    <tr>\n",
       "      <th>std</th>\n",
       "      <td>0.619373</td>\n",
       "      <td>0.498035</td>\n",
       "      <td>43.635309</td>\n",
       "      <td>0.500025</td>\n",
       "    </tr>\n",
       "    <tr>\n",
       "      <th>min</th>\n",
       "      <td>0.000000</td>\n",
       "      <td>0.000000</td>\n",
       "      <td>150.000000</td>\n",
       "      <td>0.000000</td>\n",
       "    </tr>\n",
       "    <tr>\n",
       "      <th>25%</th>\n",
       "      <td>0.000000</td>\n",
       "      <td>0.000000</td>\n",
       "      <td>187.000000</td>\n",
       "      <td>0.000000</td>\n",
       "    </tr>\n",
       "    <tr>\n",
       "      <th>50%</th>\n",
       "      <td>1.000000</td>\n",
       "      <td>0.000000</td>\n",
       "      <td>227.500000</td>\n",
       "      <td>1.000000</td>\n",
       "    </tr>\n",
       "    <tr>\n",
       "      <th>75%</th>\n",
       "      <td>1.000000</td>\n",
       "      <td>1.000000</td>\n",
       "      <td>263.000000</td>\n",
       "      <td>1.000000</td>\n",
       "    </tr>\n",
       "    <tr>\n",
       "      <th>max</th>\n",
       "      <td>2.000000</td>\n",
       "      <td>1.000000</td>\n",
       "      <td>299.000000</td>\n",
       "      <td>1.000000</td>\n",
       "    </tr>\n",
       "  </tbody>\n",
       "</table>\n",
       "</div>"
      ],
      "text/plain": [
       "             farbe         form      gewicht          typ\n",
       "count  1000.000000  1000.000000  1000.000000  1000.000000\n",
       "mean      0.681000     0.453000   225.232000     0.515000\n",
       "std       0.619373     0.498035    43.635309     0.500025\n",
       "min       0.000000     0.000000   150.000000     0.000000\n",
       "25%       0.000000     0.000000   187.000000     0.000000\n",
       "50%       1.000000     0.000000   227.500000     1.000000\n",
       "75%       1.000000     1.000000   263.000000     1.000000\n",
       "max       2.000000     1.000000   299.000000     1.000000"
      ]
     },
     "execution_count": 8,
     "metadata": {},
     "output_type": "execute_result"
    }
   ],
   "source": [
    "obst.describe()"
   ]
  },
  {
   "cell_type": "code",
   "execution_count": null,
   "metadata": {
    "collapsed": true
   },
   "outputs": [],
   "source": [
    "# Bonus: Wieviel wiegt das ganze Obst?\n",
    "# Bonus: Wieviele Äpfel sind in dem Datensatz? Wiegen Äpfel mehr als Birnen?"
   ]
  },
  {
   "cell_type": "code",
   "execution_count": 9,
   "metadata": {
    "collapsed": false
   },
   "outputs": [
    {
     "data": {
      "text/plain": [
       "<matplotlib.text.Text at 0x7f74faeaf208>"
      ]
     },
     "execution_count": 9,
     "metadata": {},
     "output_type": "execute_result"
    },
    {
     "data": {
      "image/png": "[encoded data removed]",
      "text/plain": [
       "<matplotlib.figure.Figure at 0x7f74fd03a358>"
      ]
     },
     "metadata": {},
     "output_type": "display_data"
    },
    {
     "data": {
      "image/png": "[encoded data removed]",
      "text/plain": [
       "<matplotlib.figure.Figure at 0x7f75300c7438>"
      ]
     },
     "metadata": {},
     "output_type": "display_data"
    }
   ],
   "source": [
    "# Daten lassen sich graphisch oft leichter auswerten. Wir plotten ein Histogramm der verschiedenen Werte. Mit Pandas\n",
    "# geht das ganz einfach durch eine eingebaute Funktion:\n",
    "\n",
    "obst.gewicht.hist(bins=50)\n",
    "plt.title('Gewichtsverteilung')\n",
    "#neues Bild\n",
    "plt.figure()\n",
    "obst.farbe.hist()\n",
    "plt.title('Verteilung nach Farben')\n",
    "\n",
    "# Wir haben die Verteilungen selbst vorgegeben. Passt das?"
   ]
  },
  {
   "cell_type": "code",
   "execution_count": null,
   "metadata": {
    "collapsed": true
   },
   "outputs": [],
   "source": [
    "# Bonus: Ist das Gewicht überhaupt wichtig?\n",
    "# Google hilft, eine Korrelationsmatrix zu erzeugen!"
   ]
  },
  {
   "cell_type": "markdown",
   "metadata": {},
   "source": [
    "# Logistische Regression"
   ]
  },
  {
   "cell_type": "code",
   "execution_count": 11,
   "metadata": {
    "collapsed": true
   },
   "outputs": [],
   "source": [
    "# Wir nehmen die ersten 800 Zeilen aus dem Datensatz als Trainingsdaten. Die letzten 200 Zeilen sind Testdaten, um\n",
    "# zu überprüfen, um unser Modell was vernünftiges gelernt hat.\n",
    "X_train = obst[['form', 'farbe', 'gewicht']][0:800]\n",
    "y_train = obst['typ'][0:800]\n",
    "\n",
    "X_test = obst[['form', 'farbe', 'gewicht']][800:]\n",
    "y_test = obst['typ'][800:]"
   ]
  },
  {
   "cell_type": "code",
   "execution_count": 12,
   "metadata": {
    "collapsed": false
   },
   "outputs": [
    {
     "data": {
      "text/plain": [
       "LogisticRegression(C=1.0, class_weight=None, dual=False, fit_intercept=True,\n",
       "          intercept_scaling=1, max_iter=100, multi_class='ovr', n_jobs=1,\n",
       "          penalty='l2', random_state=None, solver='liblinear', tol=0.0001,\n",
       "          verbose=0, warm_start=False)"
      ]
     },
     "execution_count": 12,
     "metadata": {},
     "output_type": "execute_result"
    }
   ],
   "source": [
    "# Es gibt ein Paket namens sklearn, das die meisten üblichen Data Science Modelle bietet. Man kann damit sehr weit\n",
    "# kommen!\n",
    "# Wir importieren die Logistische Regression\n",
    "from sklearn.linear_model import LogisticRegression\n",
    "# Dann initiieren wir eine Instanz der LogReg\n",
    "lr = LogisticRegression()\n",
    "# Diese hat eine funkition fit - wir fitten die LogReg an die Trainingsdaten (bzw. Sklearn und Python machen das für\n",
    "# uns). Man spricht auch davon, ein Modell auf den Daten zu trainieren. (Deswegen X_train)\n",
    "lr.fit(X_train, y_train)"
   ]
  },
  {
   "cell_type": "markdown",
   "metadata": {},
   "source": [
    "Weil es ein einfaches Modell war und der Datensatz auch nicht sehr groß ist, ging das sehr schnell. Es kann auch schon mal mehrere Tage dauern!"
   ]
  },
  {
   "cell_type": "code",
   "execution_count": 23,
   "metadata": {
    "collapsed": false
   },
   "outputs": [
    {
     "data": {
      "text/plain": [
       "<matplotlib.text.Text at 0x7f74f79d27f0>"
      ]
     },
     "execution_count": 23,
     "metadata": {},
     "output_type": "execute_result"
    },
    {
     "data": {
      "image/png": "[encoded data removed]",
      "text/plain": [
       "<matplotlib.figure.Figure at 0x7f74f7a41be0>"
      ]
     },
     "metadata": {},
     "output_type": "display_data"
    }
   ],
   "source": [
    "# Die berechneten Koeffizienten können wir uns auch anzeigen lassen\n",
    "\n",
    "coefs = pd.DataFrame(lr.coef_[0], index=['form', 'farbe', 'gewicht'])\n",
    "coefs.plot.bar(grid=True)\n",
    "plt.title('Gewichtung der Features in der logistischen Regression')\n",
    "\n",
    "# Stimmt es mit unseren Erwartungen überein?"
   ]
  },
  {
   "cell_type": "code",
   "execution_count": 13,
   "metadata": {
    "collapsed": false
   },
   "outputs": [
    {
     "name": "stdout",
     "output_type": "stream",
     "text": [
      "[0 1 1 1 0 1 1 0 0 0 1 0 1 1 1 1 1 0 1 0 0 0 0 0 1 1 1 0 1 0 0 0 0 1 0 0 0\n",
      " 1 0 0 0 1 1 0 0 1 0 0 0 0 1 0 0 1 0 0 1 1 1 1 0 0 0 0 0 1 0 0 1 0 0 0 0 1\n",
      " 0 1 0 1 1 1 1 1 0 1 1 1 1 1 0 0 0 0 1 1 1 0 0 1 0 0 1 0 0 0 0 1 0 0 0 1 0\n",
      " 0 0 0 1 0 0 0 1 0 1 0 0 0 0 1 1 0 0 0 0 1 1 0 0 1 0 0 0 1 0 0 1 0 0 1 0 0\n",
      " 0 1 1 1 1 1 0 1 1 1 0 0 0 1 1 1 0 0 1 0 1 0 0 0 1 0 0 1 0 0 0 0 1 0 1 1 1\n",
      " 0 1 1 1 0 1 1 1 1 1 0 0 0 0 0]\n",
      "\n",
      "[0 1 1 1 0 1 1 0 0 0 1 0 1 1 1 1 1 0 1 1 0 0 1 0 1 1 1 0 1 0 0 0 0 1 0 0 0\n",
      " 1 0 0 1 1 1 0 0 1 0 0 1 0 1 1 0 1 0 0 1 1 1 1 0 0 0 0 1 1 0 0 1 0 0 0 0 1\n",
      " 0 1 0 1 1 1 1 1 0 1 1 1 1 1 0 0 1 0 1 1 1 0 0 1 0 0 1 0 1 0 1 1 0 0 1 1 0\n",
      " 1 0 0 1 0 0 0 1 0 1 0 0 0 0 1 1 1 0 0 0 1 1 0 0 1 0 1 0 1 0 0 1 0 0 1 0 0\n",
      " 0 1 1 1 1 1 0 1 1 1 0 1 1 1 1 1 0 0 1 1 1 0 0 0 1 0 0 1 0 0 1 1 1 0 1 1 1\n",
      " 0 1 1 1 0 1 1 1 1 1 0 0 0 0 0]\n",
      "\n",
      "[0.33234575 0.98431843 0.98527004 0.98359678 0.07679969 0.98361477\n",
      " 0.98301094 0.0779942  0.07301365 0.07005127 0.98520516 0.06940022\n",
      " 0.98276711 0.98505814 0.98523763 0.98443848 0.98447261 0.07070796\n",
      " 0.98363273 0.16822579 0.0704154  0.0715183  0.15817637 0.3311096\n",
      " 0.98308528 0.98448965 0.98527004 0.07507806 0.98402308 0.33086264\n",
      " 0.07727547 0.07361981 0.31839375 0.98518889 0.07928707 0.07791404\n",
      " 0.06997865 0.98328807 0.07727547 0.0763266  0.15817637 0.98289883\n",
      " 0.98513999 0.07500065 0.07476887 0.98475978 0.07904318 0.33656591\n",
      " 0.16979208 0.07211302 0.98363273 0.16026651 0.07461472 0.98374011\n",
      " 0.074154   0.07339196 0.98319619 0.98467586 0.98459149 0.98421481\n",
      " 0.31863583 0.07879997 0.07500065 0.0752331  0.15906942 0.98424942\n",
      " 0.07331615 0.07656281 0.98347035 0.32839826 0.07994083 0.07166656\n",
      " 0.33581926 0.98282369 0.07807444 0.98354271 0.08035192 0.98509093\n",
      " 0.98398798 0.98350657 0.9831593  0.98459149 0.07961334 0.9838468\n",
      " 0.98386451 0.98278599 0.98459149 0.98382906 0.07137033 0.07144428\n",
      " 0.15348208 0.08010504 0.98409306 0.9839528  0.98433564 0.08010504\n",
      " 0.07500065 0.98438714 0.07226241 0.07324042 0.98343405 0.07438403\n",
      " 0.17184557 0.31936265 0.16283451 0.98293628 0.07928707 0.07196391\n",
      " 0.16932098 0.98310382 0.06925631 0.17184557 0.31069952 0.07609105\n",
      " 0.98363273 0.32130513 0.07743466 0.07159239 0.98339767 0.06968888\n",
      " 0.98291757 0.33432841 0.07248703 0.06976122 0.07063471 0.98381131\n",
      " 0.98484324 0.16131993 0.06932823 0.07609105 0.07446085 0.98447261\n",
      " 0.98312233 0.07122264 0.07324042 0.98497584 0.07301365 0.17520425\n",
      " 0.07159239 0.98297365 0.07879997 0.06954441 0.98375794 0.06889773\n",
      " 0.0754662  0.98289883 0.07735503 0.07679969 0.08010504 0.98492625\n",
      " 0.98368651 0.98341587 0.98440427 0.98500881 0.06932823 0.98297365\n",
      " 0.98361477 0.9831593  0.07484606 0.15640249 0.16313879 0.98469268\n",
      " 0.98448965 0.9826914  0.07407747 0.07346784 0.98518889 0.1739187\n",
      " 0.98495933 0.32889038 0.0763266  0.07233721 0.98440427 0.06954441\n",
      " 0.07492332 0.98436999 0.06911267 0.07743466 0.16298659 0.17216323\n",
      " 0.98460841 0.07953166 0.98304815 0.98480991 0.98325138 0.0763266\n",
      " 0.98299231 0.98400554 0.9839704  0.30594288 0.98386451 0.98464217\n",
      " 0.98416274 0.98416274 0.9836686  0.33383219 0.33333634 0.07005127\n",
      " 0.31093841 0.32716959]\n"
     ]
    }
   ],
   "source": [
    "# Nun wollen wir unser Modell testen. Dafür lassen wir unser Modell für den Testdatensatz vorhersagen, ob es sich um\n",
    "# Äpfel oder Birnen handelt. Das können wir dann mit der richtigen Antwort vergleichen, die in y_test gespeichert ist.\n",
    "\n",
    "prediction = lr.predict(X_test)\n",
    "\n",
    "print('Wahrheit')\n",
    "\n",
    "print(y_test.values)\n",
    "\n",
    "print()\n",
    "print('Vorhersage')\n",
    "print(prediction)\n",
    "\n",
    "# Das Modell gibt uns nicht nur eine Vorhersage, ob es sich um einen Apfel oder eine Birne handelt, sondern auch\n",
    "# wie sicher es sich ist.\n",
    "print('Warhrscheinlichkeit, dass es eine Birne')\n",
    "p_birne = lr.predict_proba(X_test)[:,1]\n",
    "\n",
    "print()\n",
    "print(p_birne)"
   ]
  },
  {
   "cell_type": "code",
   "execution_count": null,
   "metadata": {
    "collapsed": true
   },
   "outputs": [],
   "source": [
    "# Wie können wir entscheiden, ob es sich um ein gutes oder schlechtes Modell handelt?"
   ]
  },
  {
   "cell_type": "code",
   "execution_count": null,
   "metadata": {
    "collapsed": false
   },
   "outputs": [],
   "source": [
    "from sklearn.metrics import confusion_matrix\n",
    "tn, fp, fn, tp = confusion_matrix(y_test, prediction).ravel()\n",
    "print('True positives: \\t{}\\nTrue negatives: \\t{}\\nFalse positives: \\t{}\\nFalse negatives:\\t{}'.format(tp, tn, fp, fn))\n",
    "# Man beachte, dass wir hier die ganze Zeit von Birnen sprechen!"
   ]
  },
  {
   "cell_type": "markdown",
   "metadata": {},
   "source": [
    "Wir können sehr viele verschiedene Methoden der Auswertung finden, aber wir müssen trotzdem selbst entscheiden, ob das Modell gut genug ist!\n",
    "\n",
    "Man betrachtet dafür oft Sensitivität und Spezifizität, was viele auch schon aus dem Studium kennen sollten. Anders nennt man das auch (leichter zu merken) true positive rate und true negative rate.\n",
    "https://en.wikipedia.org/wiki/Sensitivity_and_specificity"
   ]
  },
  {
   "cell_type": "code",
   "execution_count": null,
   "metadata": {
    "collapsed": true
   },
   "outputs": [],
   "source": [
    "# Übung\n",
    "# Man betrachtet in der Regel nicht die Stück- sondern die Prozenzahlen. Diese wollen wir nun berechnen.\n",
    "\n",
    "# True negative rate: Wenn wir \"Birne\" geraten haben, wie oft war es wirklich eine Birne?\n",
    "# tnr = true positives / all positive guesses\n",
    "\n",
    "# True positive rate: Wieviele der Birnen aus dem Datensatz haben wir gefunden?\n",
    "# tpr = true postivies / total true objects in the dataset\n",
    "\n",
    "# Wie würden wir das formulieren, wenn unser Algorithmus Karies entdecken würde? Welche Anforderungen würden wir an\n",
    "# einen Algorithmus haben?"
   ]
  }
 ],
 "metadata": {
  "kernelspec": {
   "display_name": "Python 3",
   "language": "python",
   "name": "python3"
  },
  "language_info": {
   "codemirror_mode": {
    "name": "ipython",
    "version": 3
   },
   "file_extension": ".py",
   "mimetype": "text/x-python",
   "name": "python",
   "nbconvert_exporter": "python",
   "pygments_lexer": "ipython3",
   "version": "3.5.2"
  }
 },
 "nbformat": 4,
 "nbformat_minor": 1
}
