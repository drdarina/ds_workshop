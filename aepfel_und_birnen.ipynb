{
 "cells": [
  {
   "cell_type": "markdown",
   "metadata": {},
   "source": [
    "# Äpfel und Birnen\n",
    "\n",
    "Und eine Einführung in Python :)"
   ]
  },
  {
   "cell_type": "markdown",
   "metadata": {},
   "source": [
    "Wir arbeiten mit Python 3 in Jupyter Notebook. Notebooks erlauben, \"live\" zu programmieren und die Ergebnisse sofort im Browser zu sehen.\n",
    "\n",
    "Um den Code in einer Zelle auszuführen, drückt man STEUERUNG + ENTER.\n",
    "\n",
    "Um eine neue Zelle zu machen drückt man ESCAPE, danach B (für below) oder A (für above)."
   ]
  },
  {
   "cell_type": "markdown",
   "metadata": {},
   "source": [
    "In dem Code weisen wir der Variable a den Wert 5 zu. Danach lassen wir a auf dem Bildschirm ausgeben. Wir können auch Text auf dem Bildschirm ausgeben, wenn wir ihn in Anführungszeichen setzen."
   ]
  },
  {
   "cell_type": "code",
   "execution_count": 1,
   "metadata": {
    "collapsed": false
   },
   "outputs": [
    {
     "name": "stdout",
     "output_type": "stream",
     "text": [
      "Der Wert von a ist:\n",
      "5\n"
     ]
    }
   ],
   "source": [
    "a = 5\n",
    "print('Der Wert von a ist:')\n",
    "print(a)"
   ]
  },
  {
   "cell_type": "code",
   "execution_count": 3,
   "metadata": {
    "collapsed": true
   },
   "outputs": [],
   "source": [
    "# Das ist ein Kommentar\n",
    "# Zeilen, die kommentiert sind, werden nicht ausgeführt.\n",
    "# So kann man seinen Code erklären"
   ]
  },
  {
   "cell_type": "code",
   "execution_count": 2,
   "metadata": {
    "collapsed": false
   },
   "outputs": [
    {
     "name": "stdout",
     "output_type": "stream",
     "text": [
      "c = 8 und d = 1.6666666666666667\n"
     ]
    }
   ],
   "source": [
    "b = 3\n",
    "# wenn wir Variablen Werte zugewiesen haben, können wir damit genauso arbeiten, wie auf Papier.\n",
    "c = a + b\n",
    "d = a / b\n",
    "# wir können {} verwenden, um Werte auszugeben. Damit \"formattiert\" man den String. Hier geben wir den Wert von\n",
    "# c und d nacheinander aus.\n",
    "print('c = {} und d = {}'.format(c, d))"
   ]
  },
  {
   "cell_type": "code",
   "execution_count": 4,
   "metadata": {
    "collapsed": true
   },
   "outputs": [],
   "source": [
    "# Man beachte, dass a und b ganze Zahlen (integer) waren, aber d durch die Division eine Kommazahl (float) ist!"
   ]
  },
  {
   "cell_type": "code",
   "execution_count": 5,
   "metadata": {
    "collapsed": true
   },
   "outputs": [],
   "source": [
    "# Python ist eine Pogrammiersprache und Jupyter eine Programmieroberfläche.\n",
    "# Python enthält sehr viele Funktionen, die man benutzen muss. Diese sind in Paketen zusammegefasst. Diese Pakete\n",
    "# kann (und muss) man laden, wenn man Funktionen benutzen muss.\n",
    "# Wenn man auf Reisen geht, nimmt man auch nicht den gesamten Kleiderschrank mit, sondern trifft eine Auswahl von\n",
    "# Kleidung, die man für die Situation brauchen wird. So bleibt der Koffer leicht!\n",
    "\n",
    "# Numpy, um Mathe zu machen\n",
    "import numpy as np\n",
    "# Die folgenden Importe sind für Grafiken:\n",
    "import matplotlib.pyplot as plt\n",
    "import seaborn as sns\n",
    "%matplotlib inline"
   ]
  },
  {
   "cell_type": "code",
   "execution_count": 6,
   "metadata": {
    "collapsed": false
   },
   "outputs": [
    {
     "name": "stdout",
     "output_type": "stream",
     "text": [
      "Ups, wir haben d überschrieben! Jetzt ist d = 2.8284271247461903.\n"
     ]
    }
   ],
   "source": [
    "# Jetzt können wir mathematische Funktionen aus Numpy benutzen! Diese bekommen immer den Prefix np.\n",
    "d = np.sqrt(c)\n",
    "print('Ups, wir haben d überschrieben! Jetzt ist d = {}.'.format(d))"
   ]
  },
  {
   "cell_type": "code",
   "execution_count": 7,
   "metadata": {
    "collapsed": true
   },
   "outputs": [],
   "source": [
    "# Wenn man den Funktionsnamen nicht raten kann, hilft Gooogle weiter.\n",
    "# Übung: was ist der 2-er Logarithmus von Wurzel c?"
   ]
  },
  {
   "cell_type": "code",
   "execution_count": 8,
   "metadata": {
    "collapsed": false
   },
   "outputs": [
    {
     "name": "stdout",
     "output_type": "stream",
     "text": [
      "[[  0 200   0   0]\n",
      " [  1 220   2   1]\n",
      " [  1 180   2   1]\n",
      " [  0 200   1   0]\n",
      " [  0 210   0   0]]\n"
     ]
    }
   ],
   "source": [
    "# Wir werden mit Matrizen arbeiten. Eine Matrix ist nichts anderes als ne Liste von Zeilen. Diese werden in numpy\n",
    "# als ein sogenanntes array gespeichert.\n",
    "# Wer schon mal mit Matlab gearbeitet hat, kann sich entspannen, denn numpy funktioniert fast genauso.\n",
    "\n",
    "# Hier haben wir mal die Obst-Werte als array abgespeichert\n",
    "# in jeder Spalte steht eine der Eigenschaften: Obsttyp, Form, Farbe, Gewicht\n",
    "# In jeder Zeile ist ein Exemplar\n",
    "\n",
    "obst = np.array([[0, 200, 0, 0], [1, 220, 2, 1], [1, 180, 2, 1], [0, 200, 1, 0], [0, 210, 0, 0]])\n",
    "\n",
    "print(obst)\n",
    "\n",
    "# Bonus: Wie transponiert man diese Matrix?"
   ]
  },
  {
   "cell_type": "code",
   "execution_count": 9,
   "metadata": {
    "collapsed": false
   },
   "outputs": [
    {
     "name": "stdout",
     "output_type": "stream",
     "text": [
      "   type  form  color  weight\n",
      "0     0   200      0       0\n",
      "1     1   220      2       1\n",
      "2     1   180      2       1\n",
      "3     0   200      1       0\n",
      "4     0   210      0       0\n"
     ]
    }
   ],
   "source": [
    "# Die Zeilen- und Spaltenbeschriftungen sind wichtig, weshalb wir die gerne mit speichern würden. Data Scientists\n",
    "# arbeiten viel mit einem speziellen Datenformat: DataFrame, das im Paket pandas enthalten ist.\n",
    "\n",
    "import pandas as pd\n",
    "obst = pd.DataFrame([[0, 200, 0, 0], [1, 220, 2, 1], [1, 180, 2, 1], [0, 200, 1, 0], [0, 210, 0, 0]],\n",
    "                   columns=['type', 'form', 'color', 'weight'])\n",
    "print(obst)\n",
    "\n",
    "# Damit können wir (fast) genauso arbeiten, wie mit einer Matrix, aber wir vergessen nie, was was ist!"
   ]
  },
  {
   "cell_type": "code",
   "execution_count": 10,
   "metadata": {
    "collapsed": false
   },
   "outputs": [],
   "source": [
    "# Bonus: In dieser Zelle erstellen wir einen künstlichen Datensatz. \n",
    "# Wer das nicht nachvollziehen will, kann den Code ausführen und überspringen.\n",
    "\n",
    "# Wir generieren Zufallsdaten mit den Bedinungen\n",
    "# 50% der Äpfel sind rot, 20% grün und 30% gelb\n",
    "# 100% der Äpfel sind rund\n",
    "# 50% der Birnen sind grün, 50% sind gelb\n",
    "# 90% der Birnen sind länglich, 10% sind rund\n",
    "# Sowohl Äpfel als auch Birnen können zwischen 150 und 300 gramm wiegen\n",
    "\n",
    "# zufallszahl 0 oder 1\n",
    "typ = np.random.randint(0, 2, size=1000)\n",
    "\n",
    "# zufallszahl zwishen 150 und 300\n",
    "gewicht = np.random.randint(150, 300, size=1000)\n",
    "\n",
    "form = np.random.random(size=1000)\n",
    "form[np.where(typ==0)] = 0\n",
    "form[np.where((typ==1)&(form>.9))] = 0\n",
    "form = form.astype('int')\n",
    "\n",
    "farbe = np.random.random(size=1000)\n",
    "farbe[np.where((typ==0)&(farbe<=0.5))]=0\n",
    "farbe[np.where((typ==0)&(farbe>0.8))]=2\n",
    "farbe[np.where((typ==1)&(farbe<=0.5))]=2\n",
    "farbe[np.where((typ==1)&(farbe>0.5))]=1\n",
    "farbe = farbe.astype('int')\n",
    "\n",
    "# das Ganze wird als Dataframe gespeichert\n",
    "obst = pd.DataFrame({'typ': typ, 'form': form, 'farbe': farbe, 'gewicht': gewicht})"
   ]
  },
  {
   "cell_type": "code",
   "execution_count": 11,
   "metadata": {
    "collapsed": false,
    "scrolled": true
   },
   "outputs": [
    {
     "name": "stdout",
     "output_type": "stream",
     "text": [
      "   farbe  form  gewicht  typ\n",
      "0      2     0      243    0\n",
      "1      1     0      297    1\n",
      "2      1     0      223    1\n",
      "3      0     0      227    0\n",
      "4      1     0      150    1\n",
      "5      0     0      274    0\n",
      "6      1     0      208    1\n",
      "7      0     0      183    0\n",
      "8      1     0      256    1\n",
      "9      1     0      161    1\n",
      "\n",
      "     farbe  form  gewicht  typ\n",
      "238      0     0      150    0\n",
      "4        1     0      150    1\n",
      "610      2     0      150    0\n",
      "704      1     0      150    1\n",
      "151      1     0      150    1\n",
      "647      0     0      150    0\n",
      "589      1     0      151    1\n",
      "540      1     0      151    1\n",
      "838      1     0      151    1\n",
      "914      0     0      151    0\n",
      "\n",
      "     farbe  form  gewicht  typ\n",
      "537      1     0      299    1\n",
      "656      0     0      299    0\n",
      "100      0     0      299    0\n",
      "553      0     0      299    0\n",
      "952      1     0      299    1\n",
      "31       1     0      298    1\n",
      "998      2     0      298    0\n",
      "642      0     0      298    0\n",
      "88       1     0      298    1\n",
      "70       1     0      298    1\n"
     ]
    }
   ],
   "source": [
    "# Jetzt können wir uns den Datensatz anschauen\n",
    "\n",
    "print(obst.head(10))\n",
    "print()\n",
    "print(obst.sort_values(by='gewicht').head(10))\n",
    "print()\n",
    "print(obst.sort_values(by='gewicht', ascending=False).head(10))"
   ]
  },
  {
   "cell_type": "code",
   "execution_count": 12,
   "metadata": {
    "collapsed": false
   },
   "outputs": [
    {
     "name": "stdout",
     "output_type": "stream",
     "text": [
      "             farbe    form      gewicht          typ\n",
      "count  1000.000000  1000.0  1000.000000  1000.000000\n",
      "mean      0.707000     0.0   224.613000     0.503000\n",
      "std       0.641531     0.0    43.424474     0.500241\n",
      "min       0.000000     0.0   150.000000     0.000000\n",
      "25%       0.000000     0.0   187.000000     0.000000\n",
      "50%       1.000000     0.0   225.000000     1.000000\n",
      "75%       1.000000     0.0   263.000000     1.000000\n",
      "max       2.000000     0.0   299.000000     1.000000\n"
     ]
    }
   ],
   "source": [
    "# Statistiken über das Obst bekommt man als integrierte Pandas-Funktion\n",
    "print(obst.describe())"
   ]
  },
  {
   "cell_type": "code",
   "execution_count": 13,
   "metadata": {
    "collapsed": false
   },
   "outputs": [
    {
     "data": {
      "text/html": [
       "<div>\n",
       "<table border=\"1\" class=\"dataframe\">\n",
       "  <thead>\n",
       "    <tr style=\"text-align: right;\">\n",
       "      <th></th>\n",
       "      <th>farbe</th>\n",
       "      <th>form</th>\n",
       "      <th>gewicht</th>\n",
       "      <th>typ</th>\n",
       "    </tr>\n",
       "  </thead>\n",
       "  <tbody>\n",
       "    <tr>\n",
       "      <th>count</th>\n",
       "      <td>1000.000000</td>\n",
       "      <td>1000.0</td>\n",
       "      <td>1000.000000</td>\n",
       "      <td>1000.000000</td>\n",
       "    </tr>\n",
       "    <tr>\n",
       "      <th>mean</th>\n",
       "      <td>0.707000</td>\n",
       "      <td>0.0</td>\n",
       "      <td>224.613000</td>\n",
       "      <td>0.503000</td>\n",
       "    </tr>\n",
       "    <tr>\n",
       "      <th>std</th>\n",
       "      <td>0.641531</td>\n",
       "      <td>0.0</td>\n",
       "      <td>43.424474</td>\n",
       "      <td>0.500241</td>\n",
       "    </tr>\n",
       "    <tr>\n",
       "      <th>min</th>\n",
       "      <td>0.000000</td>\n",
       "      <td>0.0</td>\n",
       "      <td>150.000000</td>\n",
       "      <td>0.000000</td>\n",
       "    </tr>\n",
       "    <tr>\n",
       "      <th>25%</th>\n",
       "      <td>0.000000</td>\n",
       "      <td>0.0</td>\n",
       "      <td>187.000000</td>\n",
       "      <td>0.000000</td>\n",
       "    </tr>\n",
       "    <tr>\n",
       "      <th>50%</th>\n",
       "      <td>1.000000</td>\n",
       "      <td>0.0</td>\n",
       "      <td>225.000000</td>\n",
       "      <td>1.000000</td>\n",
       "    </tr>\n",
       "    <tr>\n",
       "      <th>75%</th>\n",
       "      <td>1.000000</td>\n",
       "      <td>0.0</td>\n",
       "      <td>263.000000</td>\n",
       "      <td>1.000000</td>\n",
       "    </tr>\n",
       "    <tr>\n",
       "      <th>max</th>\n",
       "      <td>2.000000</td>\n",
       "      <td>0.0</td>\n",
       "      <td>299.000000</td>\n",
       "      <td>1.000000</td>\n",
       "    </tr>\n",
       "  </tbody>\n",
       "</table>\n",
       "</div>"
      ],
      "text/plain": [
       "             farbe    form      gewicht          typ\n",
       "count  1000.000000  1000.0  1000.000000  1000.000000\n",
       "mean      0.707000     0.0   224.613000     0.503000\n",
       "std       0.641531     0.0    43.424474     0.500241\n",
       "min       0.000000     0.0   150.000000     0.000000\n",
       "25%       0.000000     0.0   187.000000     0.000000\n",
       "50%       1.000000     0.0   225.000000     1.000000\n",
       "75%       1.000000     0.0   263.000000     1.000000\n",
       "max       2.000000     0.0   299.000000     1.000000"
      ]
     },
     "execution_count": 13,
     "metadata": {},
     "output_type": "execute_result"
    }
   ],
   "source": [
    "# Man muss aber auch nicht immer print benutzen! Ein Vorteil von Jupyter ist, dass die letzte Zeile immer automatisch\n",
    "# am Bildschirm ausgegeben wird. Dann ist das Format meistens etwas besser.\n",
    "\n",
    "obst.describe()"
   ]
  },
  {
   "cell_type": "code",
   "execution_count": 14,
   "metadata": {
    "collapsed": false
   },
   "outputs": [],
   "source": [
    "# Bonus: Wieviele Äpfel sind in dem Datensatz?"
   ]
  },
  {
   "cell_type": "code",
   "execution_count": 19,
   "metadata": {
    "collapsed": false
   },
   "outputs": [
    {
     "data": {
      "text/plain": [
       "<matplotlib.axes._subplots.AxesSubplot at 0x7feb0f984b70>"
      ]
     },
     "execution_count": 19,
     "metadata": {},
     "output_type": "execute_result"
    },
    {
     "data": {
      "image/png": "[encoded data removed]",
      "text/plain": [
       "<matplotlib.figure.Figure at 0x7feb0fa8c7b8>"
      ]
     },
     "metadata": {},
     "output_type": "display_data"
    },
    {
     "data": {
      "image/png": "[encoded data removed]",
      "text/plain": [
       "<matplotlib.figure.Figure at 0x7feb0fa8c7f0>"
      ]
     },
     "metadata": {},
     "output_type": "display_data"
    }
   ],
   "source": [
    "# Daten lassen sich graphisch oft leichter auswerten. Wir plotten ein Histogramm der verschiedenen Werte. Mit Pandas\n",
    "# geht das ganz einfach durch eine eingebaute Funktion:\n",
    "\n",
    "obst.gewicht.hist(bins=50)\n",
    "#neues Bild\n",
    "plt.figure()\n",
    "obst.farbe.hist()\n",
    "\n",
    "# Wir haben die Verteilungen selbst vorgegeben. Passt das?"
   ]
  },
  {
   "cell_type": "markdown",
   "metadata": {},
   "source": [
    "# Logistische Regression\n",
    "\n",
    "todo: kurzer Text über Logreg mit Plot"
   ]
  },
  {
   "cell_type": "code",
   "execution_count": 20,
   "metadata": {
    "collapsed": true
   },
   "outputs": [],
   "source": [
    "# Wir nehmen die ersten 800 Zeilen aus dem Datensatz als Trainingsdaten. Die letzten 200 Zeilen sind Testdaten, um\n",
    "# zu überprüfen, um unser Modell was vernünftiges gelernt hat.\n",
    "X_train = obst[['form', 'farbe', 'gewicht']][0:800]\n",
    "y_train = obst['typ'][0:800]\n",
    "\n",
    "X_test = obst[['form', 'farbe', 'gewicht']][800:]\n",
    "y_test = obst['typ'][800:]"
   ]
  },
  {
   "cell_type": "code",
   "execution_count": 21,
   "metadata": {
    "collapsed": false
   },
   "outputs": [
    {
     "data": {
      "text/plain": [
       "LogisticRegression(C=1.0, class_weight=None, dual=False, fit_intercept=True,\n",
       "          intercept_scaling=1, max_iter=100, multi_class='ovr', n_jobs=1,\n",
       "          penalty='l2', random_state=None, solver='liblinear', tol=0.0001,\n",
       "          verbose=0, warm_start=False)"
      ]
     },
     "execution_count": 21,
     "metadata": {},
     "output_type": "execute_result"
    }
   ],
   "source": [
    "# Es gibt ein Paket namens sklearn, das die meisten üblichen Data Science Modelle bietet. Man kann damit sehr weit\n",
    "# kommen!\n",
    "# Wir importieren die Logistische Regression\n",
    "from sklearn.linear_model import LogisticRegression\n",
    "# Dann initiieren wir eine Instanz der LogReg\n",
    "lr = LogisticRegression()\n",
    "# Diese hat eine funkition fit - wir fitten die LogReg an die Trainingsdaten (bzw. Sklearn und Python machen das für\n",
    "# uns). Man spricht auch davon, ein Modell auf den Daten zu trainieren. (Deswegen X_train)\n",
    "lr.fit(X_train, y_train)"
   ]
  },
  {
   "cell_type": "markdown",
   "metadata": {},
   "source": [
    "Weil es ein einfaches Modell war und der Datensatz auch nicht sehr groß ist, ging das sehr schnell. Es kann auch schon mal mehrere Tage dauern!"
   ]
  },
  {
   "cell_type": "code",
   "execution_count": 28,
   "metadata": {
    "collapsed": false
   },
   "outputs": [
    {
     "name": "stdout",
     "output_type": "stream",
     "text": [
      "[1 0 1 0 0 0 0 0 0 1 1 1 1 1 1 1 1 0 1 1 1 1 1 1 1 0 1 1 0 0 1 1 1 1 0 1 1\n",
      " 0 1 1 1 1 0 1 0 1 1 1 1 0 0 0 0 1 1 1 1 1 1 1 0 0 0 0 1 1 1 0 0 1 0 1 0 0\n",
      " 1 1 1 1 1 0 1 0 1 1 0 1 1 1 1 0 1 0 1 0 1 1 0 0 0 0 1 1 1 0 1 1 1 1 0 1 0\n",
      " 0 1 1 0 0 1 0 1 0 1 1 1 0 0 1 0 1 1 1 1 1 0 0 1 1 0 1 1 1 0 0 1 1 0 0 0 0\n",
      " 0 1 0 1 1 1 0 0 0 1 0 0 1 1 1 1 1 0 1 0 1 1 0 0 0 1 1 0 1 1 1 1 1 1 0 1 1\n",
      " 0 1 1 0 1 1 0 1 0 1 1 0 1 1 0]\n",
      "\n",
      "[0 0 1 0 0 0 0 0 0 0 1 1 1 1 0 1 1 0 1 0 0 1 1 1 1 0 1 1 0 0 1 0 1 1 0 0 1\n",
      " 0 1 1 1 1 0 0 0 1 1 1 1 0 0 0 0 1 1 0 1 1 1 1 0 0 0 0 1 1 1 0 0 1 0 1 0 0\n",
      " 1 1 0 1 1 0 0 0 1 1 0 1 1 1 1 0 1 0 1 0 1 1 0 0 0 0 1 0 1 0 0 1 1 1 0 1 0\n",
      " 0 0 1 0 0 0 0 1 0 0 1 1 0 0 1 0 1 1 1 1 1 0 0 1 1 0 1 1 1 0 0 0 1 0 0 0 0\n",
      " 0 1 0 1 1 1 0 0 0 1 0 0 1 1 1 1 0 0 1 0 0 1 0 0 0 1 1 0 0 1 1 1 1 1 0 1 1\n",
      " 0 1 1 0 1 1 0 0 0 1 1 0 1 0 0]\n"
     ]
    }
   ],
   "source": [
    "# Nun wollen wir unser Modell testen. Dafür lassen wir unser Modell für den Testdatensatz vorhersagen, ob es sich um\n",
    "# Äpfel oder Birnen handelt. Das können wir dann mit der richtigen Antwort vergleichen, die in y_test gespeichert ist.\n",
    "\n",
    "prediction = lr.predict(X_test)\n",
    "print(prediction)\n",
    "print()\n",
    "print(y_test.values)"
   ]
  },
  {
   "cell_type": "code",
   "execution_count": null,
   "metadata": {
    "collapsed": true
   },
   "outputs": [],
   "source": [
    "# Wie können wir entscheiden, ob es sich um ein gutes oder schlechtes Modell handelt?"
   ]
  },
  {
   "cell_type": "code",
   "execution_count": 30,
   "metadata": {
    "collapsed": false
   },
   "outputs": [
    {
     "name": "stdout",
     "output_type": "stream",
     "text": [
      "[0.91641524 0.21273952 0.63895828 0.26404196 0.21837753 0.26242526\n",
      " 0.26081495 0.25024411 0.25128824 0.91555992 0.59433013 0.59566931\n",
      " 0.66294269 0.59030422 0.89144873 0.67524603 0.6746364  0.27609122\n",
      " 0.5876135  0.89036849 0.92158468 0.58963204 0.62082291 0.65733206\n",
      " 0.62278325 0.26350235 0.64087909 0.67219197 0.20538857 0.25443795\n",
      " 0.62604154 0.90749799 0.67828525 0.67949674 0.21743043 0.91768346\n",
      " 0.59633837 0.27609122 0.68010159 0.63574705 0.65419581 0.67949674\n",
      " 0.21088395 0.91726268 0.23794137 0.6788913  0.60964136 0.631231\n",
      " 0.6776786  0.26296345 0.2539112  0.22509028 0.23743789 0.6427954\n",
      " 0.58694    0.90796345 0.65230758 0.64914989 0.62473957 0.6427954\n",
      " 0.21042192 0.26838427 0.21042192 0.26620747 0.62604154 0.65795768\n",
      " 0.63767526 0.20675238 0.23945621 0.64215713 0.21134673 0.6030089\n",
      " 0.21227451 0.22801163 0.62993643 0.61885863 0.92098015 0.62863998\n",
      " 0.64724897 0.27553621 0.8943713  0.2314535  0.6030089  0.67219197\n",
      " 0.26838427 0.61623352 0.59164756 0.61820299 0.59767542 0.26296345\n",
      " 0.61162334 0.26188778 0.64343316 0.25496543 0.62343581 0.5949999\n",
      " 0.20358054 0.24352798 0.23996262 0.22606111 0.66912327 0.89117955\n",
      " 0.6036739  0.24455323 0.91683994 0.63316932 0.59433013 0.59901101\n",
      " 0.26404196 0.60167777 0.20629704 0.21554515 0.88955214 0.62993643\n",
      " 0.27720333 0.24250565 0.9086577  0.21181025 0.66727509 0.21367176\n",
      " 0.89198534 0.67949674 0.6036739  0.21554515 0.24764645 0.6746364\n",
      " 0.26081495 0.62473957 0.61491842 0.62863998 0.66418336 0.67280396\n",
      " 0.22460598 0.21507569 0.58895953 0.60964136 0.2651233  0.66973817\n",
      " 0.64914989 0.66789173 0.27498188 0.2539112  0.91250341 0.63574705\n",
      " 0.21601536 0.23293966 0.23443245 0.2314535  0.26188778 0.66912327\n",
      " 0.21601536 0.65920726 0.58491754 0.62408791 0.22899133 0.26675062\n",
      " 0.26893023 0.66604011 0.23095959 0.20812289 0.62408791 0.67035249\n",
      " 0.65041456 0.62928844 0.90842681 0.22171574 0.61689044 0.24352798\n",
      " 0.88927884 0.66727509 0.27002425 0.22948229 0.21088395 0.59901101\n",
      " 0.62213025 0.23593186 0.88817972 0.5949999  0.65482414 0.67828525\n",
      " 0.61030242 0.67524603 0.21648631 0.63639028 0.66418336 0.23493152\n",
      " 0.59097606 0.60433851 0.23343652 0.59901101 0.64151836 0.23996262\n",
      " 0.90000876 0.20584243 0.66542176 0.64151836 0.2471291  0.66542176\n",
      " 0.88679241 0.23046642]\n"
     ]
    }
   ],
   "source": [
    "# Das Modell gibt uns nicht nur eine Vorhersage, ob es sich um einen Apfel oder eine Birne handelt, sondern auch\n",
    "# wie sicher es sich ist. So\n",
    "\n",
    "p_birne = lr.predict_proba(X_test)[:,1]\n",
    "print(p_birne)"
   ]
  },
  {
   "cell_type": "code",
   "execution_count": 48,
   "metadata": {
    "collapsed": false
   },
   "outputs": [
    {
     "name": "stdout",
     "output_type": "stream",
     "text": [
      "True positives: \t100\n",
      "true negatives: \t78\n",
      "false positives: \t22\n",
      "false negatives:\t0\n"
     ]
    }
   ],
   "source": [
    "from sklearn.metrics import confusion_matrix\n",
    "tn, fp, fn, tp = confusion_matrix(y_test, prediction).ravel()\n",
    "print('True positives: \\t{}\\nTrue negatives: \\t{}\\nFalse positives: \\t{}\\nFalse negatives:\\t{}'.format(tp, tn, fp, fn))"
   ]
  },
  {
   "cell_type": "markdown",
   "metadata": {},
   "source": [
    "Wir können sehr viele verschiedene Methoden der Auswertung finden, aber wir müssen trotzdem selbst entscheiden, ob das Modell gut genug ist!"
   ]
  },
  {
   "cell_type": "code",
   "execution_count": null,
   "metadata": {
    "collapsed": true
   },
   "outputs": [],
   "source": []
  }
 ],
 "metadata": {
  "kernelspec": {
   "display_name": "Python 3",
   "language": "python",
   "name": "python3"
  },
  "language_info": {
   "codemirror_mode": {
    "name": "ipython",
    "version": 3
   },
   "file_extension": ".py",
   "mimetype": "text/x-python",
   "name": "python",
   "nbconvert_exporter": "python",
   "pygments_lexer": "ipython3",
   "version": "3.5.2"
  }
 },
 "nbformat": 4,
 "nbformat_minor": 1
}
