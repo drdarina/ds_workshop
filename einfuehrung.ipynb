{
 "cells": [
  {
   "cell_type": "markdown",
   "metadata": {},
   "source": [
    "# Eine wirklich ganz kleine Einführung in Python :)"
   ]
  },
  {
   "cell_type": "markdown",
   "metadata": {},
   "source": [
    "Falls ich vergesse, das zu sagen: Ich kann euch hier nicht programmieren beibringen. Ich würde mir aber wünschen, dass ihr mit einem Gefühl herauskommt, dass es nicht so schwer ist...\n",
    "\n",
    "Wir arbeiten mit Python 3 in Jupyter Notebook. Notebooks erlauben, \"live\" zu programmieren und die Ergebnisse sofort im Browser zu sehen.\n",
    "\n",
    "Um den Code in einer Zelle auszuführen, drückt man STEUERUNG + ENTER.\n",
    "\n",
    "Um eine neue Zelle zu machen drückt man ESCAPE, danach B (für below) oder A (für above)."
   ]
  },
  {
   "cell_type": "markdown",
   "metadata": {},
   "source": [
    "In dem Code weisen wir der Variable a den Wert 5 zu. Danach lassen wir a auf dem Bildschirm ausgeben. Wir können auch Text auf dem Bildschirm ausgeben, wenn wir ihn in Anführungszeichen setzen."
   ]
  },
  {
   "cell_type": "code",
   "execution_count": 1,
   "metadata": {
    "collapsed": false
   },
   "outputs": [
    {
     "name": "stdout",
     "output_type": "stream",
     "text": [
      "Der Wert von a ist:\n",
      "5\n"
     ]
    }
   ],
   "source": [
    "a = 5\n",
    "print('Der Wert von a ist:')\n",
    "print(a)"
   ]
  },
  {
   "cell_type": "code",
   "execution_count": 2,
   "metadata": {
    "collapsed": true
   },
   "outputs": [],
   "source": [
    "# Das ist ein Kommentar\n",
    "# Zeilen, die kommentiert sind, werden nicht ausgeführt.\n",
    "# So kann man seinen Code erklären"
   ]
  },
  {
   "cell_type": "code",
   "execution_count": 3,
   "metadata": {
    "collapsed": false
   },
   "outputs": [
    {
     "name": "stdout",
     "output_type": "stream",
     "text": [
      "c = 8 und d = 1.6666666666666667\n"
     ]
    }
   ],
   "source": [
    "b = 3\n",
    "# wenn wir Variablen Werte zugewiesen haben, können wir damit genauso arbeiten, wie auf Papier.\n",
    "c = a + b\n",
    "d = a / b\n",
    "# wir können {} verwenden, um Werte auszugeben. Damit \"formattiert\" man den String. Hier geben wir den Wert von\n",
    "# c und d nacheinander aus. Was in der .format Funktion drin steht, wird in die geschweiften Klammern eingesetzt,\n",
    "# in der Reihenfolge, in der es kommt. Versucht mal, c und d durch a und b zu ersetzen, was passiert?\n",
    "print('c = {} und d = {}'.format(c, d))"
   ]
  },
  {
   "cell_type": "code",
   "execution_count": 4,
   "metadata": {
    "collapsed": true
   },
   "outputs": [],
   "source": [
    "# Man beachte, dass a und b ganze Zahlen (integer) waren, aber d durch die Division eine Kommazahl (float) ist!"
   ]
  },
  {
   "cell_type": "code",
   "execution_count": 5,
   "metadata": {
    "collapsed": true
   },
   "outputs": [],
   "source": [
    "# Python ist eine Pogrammiersprache und Jupyter eine Programmieroberfläche.\n",
    "# Python enthält sehr viele Funktionen, die man benutzen muss. Diese sind in Paketen zusammegefasst. Diese Pakete\n",
    "# kann (und muss) man laden, wenn man Funktionen benutzen muss.\n",
    "# Wenn man auf Reisen geht, nimmt man auch nicht den gesamten Kleiderschrank mit, sondern trifft eine Auswahl von\n",
    "# Kleidung, die man für die Situation brauchen wird. So bleibt der Koffer leicht!\n",
    "\n",
    "# Numpy, um Mathe zu machen\n",
    "import numpy as np"
   ]
  },
  {
   "cell_type": "code",
   "execution_count": 6,
   "metadata": {
    "collapsed": false
   },
   "outputs": [
    {
     "name": "stdout",
     "output_type": "stream",
     "text": [
      "Ups, wir haben d überschrieben! Jetzt ist d = 2.8284271247461903.\n"
     ]
    }
   ],
   "source": [
    "# Jetzt können wir mathematische Funktionen aus Numpy benutzen! Diese bekommen immer den Prefix np.\n",
    "d = np.sqrt(c)\n",
    "print('Ups, wir haben d überschrieben! Jetzt ist d = {}.'.format(d))"
   ]
  },
  {
   "cell_type": "code",
   "execution_count": 7,
   "metadata": {
    "collapsed": true
   },
   "outputs": [],
   "source": [
    "# Wenn man den Funktionsnamen nicht raten kann, hilft Gooogle weiter.\n",
    "# Übung: was ist der 2-er Logarithmus von Wurzel c?\n",
    "# (Man findet online verschiedene Lösungen, nehmt doch bitte die mit Numpy!)"
   ]
  },
  {
   "cell_type": "code",
   "execution_count": 8,
   "metadata": {
    "collapsed": false
   },
   "outputs": [
    {
     "name": "stdout",
     "output_type": "stream",
     "text": [
      "[[  0 200   0   0]\n",
      " [  1 220   2   1]\n",
      " [  1 180   2   1]\n",
      " [  0 200   1   0]\n",
      " [  0 210   0   0]]\n"
     ]
    }
   ],
   "source": [
    "# Wir werden mit Matrizen arbeiten. Eine Matrix ist nichts anderes als ne Liste von Zeilen. Diese werden in numpy\n",
    "# als ein sogenanntes array gespeichert.\n",
    "# Wer schon mal mit Matlab gearbeitet hat, kann sich entspannen, denn numpy funktioniert fast genauso.\n",
    "\n",
    "# Hier haben wir mal die Obst-Werte als array abgespeichert\n",
    "# in jeder Spalte steht eine der Eigenschaften: Obsttyp, Form, Farbe, Gewicht\n",
    "# In jeder Zeile ist ein Exemplar\n",
    "\n",
    "obst = np.array([[0, 200, 0, 0], \n",
    "                 [1, 220, 2, 1], \n",
    "                 [1, 180, 2, 1], \n",
    "                 [0, 200, 1, 0], \n",
    "                 [0, 210, 0, 0]])\n",
    "\n",
    "print(obst)\n",
    "\n",
    "# Bonus: Wie transponiert man diese Matrix?"
   ]
  },
  {
   "cell_type": "code",
   "execution_count": 9,
   "metadata": {
    "collapsed": false
   },
   "outputs": [
    {
     "name": "stdout",
     "output_type": "stream",
     "text": [
      "   type  weight  color  form\n",
      "0     0     200      0     0\n",
      "1     1     220      2     1\n",
      "2     1     180      2     1\n",
      "3     0     200      1     0\n",
      "4     0     210      0     0\n"
     ]
    }
   ],
   "source": [
    "# Die Zeilen- und Spaltenbeschriftungen sind wichtig, weshalb wir die gerne mit speichern würden. Data Scientists\n",
    "# arbeiten viel mit einem speziellen Datenformat: DataFrame, das im Paket pandas enthalten ist.\n",
    "\n",
    "import pandas as pd\n",
    "obst = pd.DataFrame([[0, 200, 0, 0], \n",
    "                     [1, 220, 2, 1], \n",
    "                     [1, 180, 2, 1], \n",
    "                     [0, 200, 1, 0], \n",
    "                     [0, 210, 0, 0]],\n",
    "                   columns=['type', 'weight', 'color', 'form'])\n",
    "print(obst)\n",
    "\n",
    "# Damit können wir (fast) genauso arbeiten, wie mit einer Matrix, aber wir vergessen nie, was was ist!"
   ]
  },
  {
   "cell_type": "code",
   "execution_count": 10,
   "metadata": {
    "collapsed": false
   },
   "outputs": [
    {
     "data": {
      "text/html": [
       "<div>\n",
       "<table border=\"1\" class=\"dataframe\">\n",
       "  <thead>\n",
       "    <tr style=\"text-align: right;\">\n",
       "      <th></th>\n",
       "      <th>type</th>\n",
       "      <th>weight</th>\n",
       "      <th>color</th>\n",
       "      <th>form</th>\n",
       "    </tr>\n",
       "  </thead>\n",
       "  <tbody>\n",
       "    <tr>\n",
       "      <th>count</th>\n",
       "      <td>5.000000</td>\n",
       "      <td>5.000000</td>\n",
       "      <td>5.0</td>\n",
       "      <td>5.000000</td>\n",
       "    </tr>\n",
       "    <tr>\n",
       "      <th>mean</th>\n",
       "      <td>0.400000</td>\n",
       "      <td>202.000000</td>\n",
       "      <td>1.0</td>\n",
       "      <td>0.400000</td>\n",
       "    </tr>\n",
       "    <tr>\n",
       "      <th>std</th>\n",
       "      <td>0.547723</td>\n",
       "      <td>14.832397</td>\n",
       "      <td>1.0</td>\n",
       "      <td>0.547723</td>\n",
       "    </tr>\n",
       "    <tr>\n",
       "      <th>min</th>\n",
       "      <td>0.000000</td>\n",
       "      <td>180.000000</td>\n",
       "      <td>0.0</td>\n",
       "      <td>0.000000</td>\n",
       "    </tr>\n",
       "    <tr>\n",
       "      <th>25%</th>\n",
       "      <td>0.000000</td>\n",
       "      <td>200.000000</td>\n",
       "      <td>0.0</td>\n",
       "      <td>0.000000</td>\n",
       "    </tr>\n",
       "    <tr>\n",
       "      <th>50%</th>\n",
       "      <td>0.000000</td>\n",
       "      <td>200.000000</td>\n",
       "      <td>1.0</td>\n",
       "      <td>0.000000</td>\n",
       "    </tr>\n",
       "    <tr>\n",
       "      <th>75%</th>\n",
       "      <td>1.000000</td>\n",
       "      <td>210.000000</td>\n",
       "      <td>2.0</td>\n",
       "      <td>1.000000</td>\n",
       "    </tr>\n",
       "    <tr>\n",
       "      <th>max</th>\n",
       "      <td>1.000000</td>\n",
       "      <td>220.000000</td>\n",
       "      <td>2.0</td>\n",
       "      <td>1.000000</td>\n",
       "    </tr>\n",
       "  </tbody>\n",
       "</table>\n",
       "</div>"
      ],
      "text/plain": [
       "           type      weight  color      form\n",
       "count  5.000000    5.000000    5.0  5.000000\n",
       "mean   0.400000  202.000000    1.0  0.400000\n",
       "std    0.547723   14.832397    1.0  0.547723\n",
       "min    0.000000  180.000000    0.0  0.000000\n",
       "25%    0.000000  200.000000    0.0  0.000000\n",
       "50%    0.000000  200.000000    1.0  0.000000\n",
       "75%    1.000000  210.000000    2.0  1.000000\n",
       "max    1.000000  220.000000    2.0  1.000000"
      ]
     },
     "execution_count": 10,
     "metadata": {},
     "output_type": "execute_result"
    }
   ],
   "source": [
    "# wir können aber auch ein paar nette Funktionen benutzen, die uns das Leben einfacher machen\n",
    "# Man muss auch nicht immer print benutzen! Ein Vorteil von Jupyter ist, dass die letzte Zeile immer automatisch\n",
    "# am Bildschirm ausgegeben wird. Dann ist das Format meistens etwas besser.\n",
    "\n",
    "obst.describe()"
   ]
  },
  {
   "cell_type": "code",
   "execution_count": 11,
   "metadata": {
    "collapsed": false
   },
   "outputs": [
    {
     "data": {
      "text/html": [
       "<div>\n",
       "<table border=\"1\" class=\"dataframe\">\n",
       "  <thead>\n",
       "    <tr style=\"text-align: right;\">\n",
       "      <th></th>\n",
       "      <th>type</th>\n",
       "      <th>weight</th>\n",
       "      <th>color</th>\n",
       "      <th>form</th>\n",
       "    </tr>\n",
       "  </thead>\n",
       "  <tbody>\n",
       "    <tr>\n",
       "      <th>1</th>\n",
       "      <td>1</td>\n",
       "      <td>220</td>\n",
       "      <td>2</td>\n",
       "      <td>1</td>\n",
       "    </tr>\n",
       "    <tr>\n",
       "      <th>4</th>\n",
       "      <td>0</td>\n",
       "      <td>210</td>\n",
       "      <td>0</td>\n",
       "      <td>0</td>\n",
       "    </tr>\n",
       "    <tr>\n",
       "      <th>0</th>\n",
       "      <td>0</td>\n",
       "      <td>200</td>\n",
       "      <td>0</td>\n",
       "      <td>0</td>\n",
       "    </tr>\n",
       "    <tr>\n",
       "      <th>3</th>\n",
       "      <td>0</td>\n",
       "      <td>200</td>\n",
       "      <td>1</td>\n",
       "      <td>0</td>\n",
       "    </tr>\n",
       "    <tr>\n",
       "      <th>2</th>\n",
       "      <td>1</td>\n",
       "      <td>180</td>\n",
       "      <td>2</td>\n",
       "      <td>1</td>\n",
       "    </tr>\n",
       "  </tbody>\n",
       "</table>\n",
       "</div>"
      ],
      "text/plain": [
       "   type  weight  color  form\n",
       "1     1     220      2     1\n",
       "4     0     210      0     0\n",
       "0     0     200      0     0\n",
       "3     0     200      1     0\n",
       "2     1     180      2     1"
      ]
     },
     "execution_count": 11,
     "metadata": {},
     "output_type": "execute_result"
    }
   ],
   "source": [
    "obst.sort_values(by='weight', ascending=False)"
   ]
  },
  {
   "cell_type": "code",
   "execution_count": 12,
   "metadata": {
    "collapsed": false
   },
   "outputs": [
    {
     "data": {
      "text/plain": [
       "0    0\n",
       "1    1\n",
       "2    1\n",
       "3    0\n",
       "4    0\n",
       "Name: type, dtype: int64"
      ]
     },
     "execution_count": 12,
     "metadata": {},
     "output_type": "execute_result"
    }
   ],
   "source": [
    "#Eine Spalte auswählen\n",
    "obst['type']"
   ]
  },
  {
   "cell_type": "code",
   "execution_count": 13,
   "metadata": {
    "collapsed": false
   },
   "outputs": [
    {
     "data": {
      "text/plain": [
       "1010"
      ]
     },
     "execution_count": 13,
     "metadata": {},
     "output_type": "execute_result"
    }
   ],
   "source": [
    "obst['weight'].sum()"
   ]
  }
 ],
 "metadata": {
  "kernelspec": {
   "display_name": "Python 3",
   "language": "python",
   "name": "python3"
  },
  "language_info": {
   "codemirror_mode": {
    "name": "ipython",
    "version": 3
   },
   "file_extension": ".py",
   "mimetype": "text/x-python",
   "name": "python",
   "nbconvert_exporter": "python",
   "pygments_lexer": "ipython3",
   "version": "3.5.2"
  }
 },
 "nbformat": 4,
 "nbformat_minor": 1
}
