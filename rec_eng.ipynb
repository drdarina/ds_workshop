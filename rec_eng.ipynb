{
 "cells": [
  {
   "cell_type": "code",
   "execution_count": 1,
   "metadata": {
    "collapsed": true
   },
   "outputs": [],
   "source": [
    "%matplotlib inline\n",
    "%load_ext autoreload\n",
    "%autoreload 2"
   ]
  },
  {
   "cell_type": "code",
   "execution_count": 2,
   "metadata": {
    "collapsed": true
   },
   "outputs": [],
   "source": [
    "import os\n",
    "import sys\n",
    "import numpy as np\n",
    "import pandas as pd\n",
    "import matplotlib.pyplot as plt\n",
    "import seaborn as sns\n",
    "pd.set_option('precision',2)\n",
    "\n",
    "from sklearn.metrics.pairwise import cosine_similarity"
   ]
  },
  {
   "cell_type": "code",
   "execution_count": 3,
   "metadata": {},
   "outputs": [
    {
     "name": "stdout",
     "output_type": "stream",
     "text": [
      "['genome-tags.csv', 'movies.csv', 'genome-scores.csv', 'tags.csv', 'ratings.csv', 'movies_clean.csv', 'links.csv']\n"
     ]
    }
   ],
   "source": [
    "data_path = '../ml-latest'\n",
    "all_files = [i for i in os.listdir(data_path) if i.endswith('.csv')]\n",
    "print(all_files)"
   ]
  },
  {
   "cell_type": "code",
   "execution_count": 4,
   "metadata": {
    "collapsed": true
   },
   "outputs": [],
   "source": [
    "def get_data(fn):\n",
    "    df = pd.read_csv(os.path.join(data_path, '{}.csv'.format(fn)))\n",
    "    print('{} total: {} rows.'.format(fn, len(df)))\n",
    "    return df"
   ]
  },
  {
   "cell_type": "code",
   "execution_count": 5,
   "metadata": {},
   "outputs": [
    {
     "name": "stdout",
     "output_type": "stream",
     "text": [
      "movies_clean total: 45843 rows.\n"
     ]
    },
    {
     "data": {
      "text/html": [
       "<div>\n",
       "<style>\n",
       "    .dataframe thead tr:only-child th {\n",
       "        text-align: right;\n",
       "    }\n",
       "\n",
       "    .dataframe thead th {\n",
       "        text-align: left;\n",
       "    }\n",
       "\n",
       "    .dataframe tbody tr th {\n",
       "        vertical-align: top;\n",
       "    }\n",
       "</style>\n",
       "<table border=\"1\" class=\"dataframe\">\n",
       "  <thead>\n",
       "    <tr style=\"text-align: right;\">\n",
       "      <th></th>\n",
       "      <th>movieId</th>\n",
       "      <th>title</th>\n",
       "      <th>genres</th>\n",
       "      <th>year</th>\n",
       "      <th>Sci-Fi</th>\n",
       "      <th>Thriller</th>\n",
       "      <th>Adventure</th>\n",
       "      <th>Drama</th>\n",
       "      <th>Musical</th>\n",
       "      <th>Fantasy</th>\n",
       "      <th>...</th>\n",
       "      <th>world politics</th>\n",
       "      <th>world war i</th>\n",
       "      <th>world war ii</th>\n",
       "      <th>writer's life</th>\n",
       "      <th>writers</th>\n",
       "      <th>writing</th>\n",
       "      <th>wuxia</th>\n",
       "      <th>wwii</th>\n",
       "      <th>zombie</th>\n",
       "      <th>zombies</th>\n",
       "    </tr>\n",
       "  </thead>\n",
       "  <tbody>\n",
       "    <tr>\n",
       "      <th>0</th>\n",
       "      <td>1</td>\n",
       "      <td>toy story</td>\n",
       "      <td>[0 0 1 0 0 1 0 0 0 0 1 0 0 0 0 0 1 0 0 1]</td>\n",
       "      <td>1995</td>\n",
       "      <td>0</td>\n",
       "      <td>0</td>\n",
       "      <td>1</td>\n",
       "      <td>0</td>\n",
       "      <td>0</td>\n",
       "      <td>1</td>\n",
       "      <td>...</td>\n",
       "      <td>0.0</td>\n",
       "      <td>0.0</td>\n",
       "      <td>0.0</td>\n",
       "      <td>0.0</td>\n",
       "      <td>0.00</td>\n",
       "      <td>0.0</td>\n",
       "      <td>0.0</td>\n",
       "      <td>0.0</td>\n",
       "      <td>0.0</td>\n",
       "      <td>0.0</td>\n",
       "    </tr>\n",
       "    <tr>\n",
       "      <th>1</th>\n",
       "      <td>2</td>\n",
       "      <td>jumanji</td>\n",
       "      <td>[0 0 1 0 0 1 0 0 0 0 1 0 0 0 0 0 0 0 0 0]</td>\n",
       "      <td>1995</td>\n",
       "      <td>0</td>\n",
       "      <td>0</td>\n",
       "      <td>1</td>\n",
       "      <td>0</td>\n",
       "      <td>0</td>\n",
       "      <td>1</td>\n",
       "      <td>...</td>\n",
       "      <td>0.0</td>\n",
       "      <td>0.0</td>\n",
       "      <td>0.0</td>\n",
       "      <td>0.0</td>\n",
       "      <td>0.00</td>\n",
       "      <td>0.0</td>\n",
       "      <td>0.0</td>\n",
       "      <td>0.0</td>\n",
       "      <td>0.0</td>\n",
       "      <td>0.0</td>\n",
       "    </tr>\n",
       "    <tr>\n",
       "      <th>2</th>\n",
       "      <td>3</td>\n",
       "      <td>grumpier old men</td>\n",
       "      <td>[0 0 0 0 0 0 0 0 0 1 0 0 0 0 0 0 0 0 0 1]</td>\n",
       "      <td>1995</td>\n",
       "      <td>0</td>\n",
       "      <td>0</td>\n",
       "      <td>0</td>\n",
       "      <td>0</td>\n",
       "      <td>0</td>\n",
       "      <td>0</td>\n",
       "      <td>...</td>\n",
       "      <td>0.0</td>\n",
       "      <td>0.0</td>\n",
       "      <td>0.0</td>\n",
       "      <td>0.0</td>\n",
       "      <td>0.00</td>\n",
       "      <td>0.0</td>\n",
       "      <td>0.0</td>\n",
       "      <td>0.0</td>\n",
       "      <td>0.0</td>\n",
       "      <td>0.0</td>\n",
       "    </tr>\n",
       "    <tr>\n",
       "      <th>3</th>\n",
       "      <td>4</td>\n",
       "      <td>waiting to exhale</td>\n",
       "      <td>[0 0 0 1 0 0 0 0 0 1 0 0 0 0 0 0 0 0 0 1]</td>\n",
       "      <td>1995</td>\n",
       "      <td>0</td>\n",
       "      <td>0</td>\n",
       "      <td>0</td>\n",
       "      <td>1</td>\n",
       "      <td>0</td>\n",
       "      <td>0</td>\n",
       "      <td>...</td>\n",
       "      <td>0.0</td>\n",
       "      <td>0.0</td>\n",
       "      <td>0.0</td>\n",
       "      <td>0.0</td>\n",
       "      <td>0.00</td>\n",
       "      <td>0.0</td>\n",
       "      <td>0.0</td>\n",
       "      <td>0.0</td>\n",
       "      <td>0.0</td>\n",
       "      <td>0.0</td>\n",
       "    </tr>\n",
       "    <tr>\n",
       "      <th>4</th>\n",
       "      <td>5</td>\n",
       "      <td>father of the bride part ii</td>\n",
       "      <td>[0 0 0 0 0 0 0 0 0 0 0 0 0 0 0 0 0 0 0 1]</td>\n",
       "      <td>1995</td>\n",
       "      <td>0</td>\n",
       "      <td>0</td>\n",
       "      <td>0</td>\n",
       "      <td>0</td>\n",
       "      <td>0</td>\n",
       "      <td>0</td>\n",
       "      <td>...</td>\n",
       "      <td>0.0</td>\n",
       "      <td>0.0</td>\n",
       "      <td>0.0</td>\n",
       "      <td>0.0</td>\n",
       "      <td>0.19</td>\n",
       "      <td>0.0</td>\n",
       "      <td>0.0</td>\n",
       "      <td>0.0</td>\n",
       "      <td>0.0</td>\n",
       "      <td>0.0</td>\n",
       "    </tr>\n",
       "  </tbody>\n",
       "</table>\n",
       "<p>5 rows × 1154 columns</p>\n",
       "</div>"
      ],
      "text/plain": [
       "   movieId                        title  \\\n",
       "0        1                    toy story   \n",
       "1        2                      jumanji   \n",
       "2        3             grumpier old men   \n",
       "3        4            waiting to exhale   \n",
       "4        5  father of the bride part ii   \n",
       "\n",
       "                                      genres  year  Sci-Fi  Thriller  \\\n",
       "0  [0 0 1 0 0 1 0 0 0 0 1 0 0 0 0 0 1 0 0 1]  1995       0         0   \n",
       "1  [0 0 1 0 0 1 0 0 0 0 1 0 0 0 0 0 0 0 0 0]  1995       0         0   \n",
       "2  [0 0 0 0 0 0 0 0 0 1 0 0 0 0 0 0 0 0 0 1]  1995       0         0   \n",
       "3  [0 0 0 1 0 0 0 0 0 1 0 0 0 0 0 0 0 0 0 1]  1995       0         0   \n",
       "4  [0 0 0 0 0 0 0 0 0 0 0 0 0 0 0 0 0 0 0 1]  1995       0         0   \n",
       "\n",
       "   Adventure  Drama  Musical  Fantasy   ...     world politics  world war i  \\\n",
       "0          1      0        0        1   ...                0.0          0.0   \n",
       "1          1      0        0        1   ...                0.0          0.0   \n",
       "2          0      0        0        0   ...                0.0          0.0   \n",
       "3          0      1        0        0   ...                0.0          0.0   \n",
       "4          0      0        0        0   ...                0.0          0.0   \n",
       "\n",
       "   world war ii  writer's life  writers  writing  wuxia  wwii  zombie  zombies  \n",
       "0           0.0            0.0     0.00      0.0    0.0   0.0     0.0      0.0  \n",
       "1           0.0            0.0     0.00      0.0    0.0   0.0     0.0      0.0  \n",
       "2           0.0            0.0     0.00      0.0    0.0   0.0     0.0      0.0  \n",
       "3           0.0            0.0     0.00      0.0    0.0   0.0     0.0      0.0  \n",
       "4           0.0            0.0     0.19      0.0    0.0   0.0     0.0      0.0  \n",
       "\n",
       "[5 rows x 1154 columns]"
      ]
     },
     "execution_count": 5,
     "metadata": {},
     "output_type": "execute_result"
    }
   ],
   "source": [
    "movies = get_data('movies_clean')\n",
    "movies = movies[[i for i in movies.columns if i not in ['Unnamed: 0', 'index']]]\n",
    "movies.head()"
   ]
  },
  {
   "cell_type": "code",
   "execution_count": 6,
   "metadata": {
    "collapsed": true
   },
   "outputs": [],
   "source": [
    "n_movies = len(movies)"
   ]
  },
  {
   "cell_type": "code",
   "execution_count": 7,
   "metadata": {
    "collapsed": true
   },
   "outputs": [],
   "source": [
    "tags = [i for i in movies.columns if i not in ['Unnamed: 0', 'level_0', 'index', 'movieId', 'title', 'genres', 'year', 'total_ratings']]"
   ]
  },
  {
   "cell_type": "markdown",
   "metadata": {},
   "source": [
    "## similartiy"
   ]
  },
  {
   "cell_type": "code",
   "execution_count": 8,
   "metadata": {
    "collapsed": true
   },
   "outputs": [],
   "source": [
    "movies.dropna(subset=tags, inplace=True)"
   ]
  },
  {
   "cell_type": "code",
   "execution_count": 9,
   "metadata": {
    "collapsed": true
   },
   "outputs": [],
   "source": [
    "from scipy import sparse\n",
    "movies_sparse = sparse.csr_matrix(movies[tags].as_matrix())"
   ]
  },
  {
   "cell_type": "code",
   "execution_count": 10,
   "metadata": {
    "collapsed": true
   },
   "outputs": [],
   "source": [
    "# own cosine similarity method because sklearn dies\n",
    "\n",
    "from sklearn.preprocessing import normalize\n",
    "def cosine_similarities(m):\n",
    "    m = m.T\n",
    "    col_normed_m = normalize(m.tocsc(), axis=0)\n",
    "    return col_normed_m.T * col_normed_m\n",
    "\n",
    "similarities = cosine_similarities(movies_sparse)"
   ]
  },
  {
   "cell_type": "code",
   "execution_count": 11,
   "metadata": {
    "collapsed": true
   },
   "outputs": [],
   "source": [
    "# set diagonal to 0 since we don't want to return the movie itself\n",
    "for i in range(similarities.shape[0]):\n",
    "    similarities[i,i] = 0"
   ]
  },
  {
   "cell_type": "code",
   "execution_count": 12,
   "metadata": {
    "collapsed": true
   },
   "outputs": [],
   "source": [
    "movie_id_to_idx_lookup = dict(zip(movies.movieId.values, movies.index.values))\n",
    "movie_idx_to_id_lookup = dict(zip(movies.index.values, movies.movieId.values))\n",
    "movie_id_to_title_lookup = dict(zip(movies.movieId.values, movies.title.values))"
   ]
  },
  {
   "cell_type": "code",
   "execution_count": 13,
   "metadata": {
    "collapsed": true
   },
   "outputs": [],
   "source": [
    "def get_similarities_for_movie(movie_id):\n",
    "    movie_idx = movie_id_to_idx_lookup[movie_id]\n",
    "    similarities_row = similarities[movie_idx]\n",
    "    similar_id = movie_idx_to_id_lookup[similarities_row.argmax()]\n",
    "    similar_score = similarities_row.max()\n",
    "    print('For {} ({}) we suggest {} ({}) with similarity rating {:.2f}.'.format(movie_id_to_title_lookup[movie_id],\n",
    "                                                                                movie_id,\n",
    "                                                                                movie_id_to_title_lookup[similar_id],\n",
    "                                                                                similar_id,\n",
    "                                                                                similar_score))"
   ]
  },
  {
   "cell_type": "code",
   "execution_count": 14,
   "metadata": {
    "collapsed": true
   },
   "outputs": [],
   "source": [
    "def get_similarities_for_movie_title(title):\n",
    "    movie_id = movies[movies.title==title].movieId.iloc[0]\n",
    "    get_similarities_for_movie(movie_id)"
   ]
  },
  {
   "cell_type": "code",
   "execution_count": 15,
   "metadata": {},
   "outputs": [
    {
     "data": {
      "text/html": [
       "<div>\n",
       "<style>\n",
       "    .dataframe thead tr:only-child th {\n",
       "        text-align: right;\n",
       "    }\n",
       "\n",
       "    .dataframe thead th {\n",
       "        text-align: left;\n",
       "    }\n",
       "\n",
       "    .dataframe tbody tr th {\n",
       "        vertical-align: top;\n",
       "    }\n",
       "</style>\n",
       "<table border=\"1\" class=\"dataframe\">\n",
       "  <thead>\n",
       "    <tr style=\"text-align: right;\">\n",
       "      <th></th>\n",
       "      <th>movieId</th>\n",
       "      <th>title</th>\n",
       "      <th>genres</th>\n",
       "      <th>year</th>\n",
       "      <th>Sci-Fi</th>\n",
       "      <th>Thriller</th>\n",
       "      <th>Adventure</th>\n",
       "      <th>Drama</th>\n",
       "      <th>Musical</th>\n",
       "      <th>Fantasy</th>\n",
       "      <th>...</th>\n",
       "      <th>world politics</th>\n",
       "      <th>world war i</th>\n",
       "      <th>world war ii</th>\n",
       "      <th>writer's life</th>\n",
       "      <th>writers</th>\n",
       "      <th>writing</th>\n",
       "      <th>wuxia</th>\n",
       "      <th>wwii</th>\n",
       "      <th>zombie</th>\n",
       "      <th>zombies</th>\n",
       "    </tr>\n",
       "  </thead>\n",
       "  <tbody>\n",
       "    <tr>\n",
       "      <th>1067</th>\n",
       "      <td>1089</td>\n",
       "      <td>reservoir dogs</td>\n",
       "      <td>[0 1 0 0 0 0 0 1 0 0 0 1 0 0 0 0 0 0 0 0]</td>\n",
       "      <td>1992</td>\n",
       "      <td>0</td>\n",
       "      <td>1</td>\n",
       "      <td>0</td>\n",
       "      <td>0</td>\n",
       "      <td>0</td>\n",
       "      <td>0</td>\n",
       "      <td>...</td>\n",
       "      <td>0.0</td>\n",
       "      <td>0.0</td>\n",
       "      <td>0.0</td>\n",
       "      <td>0.0</td>\n",
       "      <td>0.27</td>\n",
       "      <td>0.0</td>\n",
       "      <td>0.0</td>\n",
       "      <td>0.0</td>\n",
       "      <td>0.0</td>\n",
       "      <td>0.0</td>\n",
       "    </tr>\n",
       "  </tbody>\n",
       "</table>\n",
       "<p>1 rows × 1154 columns</p>\n",
       "</div>"
      ],
      "text/plain": [
       "      movieId           title                                     genres  \\\n",
       "1067     1089  reservoir dogs  [0 1 0 0 0 0 0 1 0 0 0 1 0 0 0 0 0 0 0 0]   \n",
       "\n",
       "      year  Sci-Fi  Thriller  Adventure  Drama  Musical  Fantasy   ...     \\\n",
       "1067  1992       0         1          0      0        0        0   ...      \n",
       "\n",
       "      world politics  world war i  world war ii  writer's life  writers  \\\n",
       "1067             0.0          0.0           0.0            0.0     0.27   \n",
       "\n",
       "      writing  wuxia  wwii  zombie  zombies  \n",
       "1067      0.0    0.0   0.0     0.0      0.0  \n",
       "\n",
       "[1 rows x 1154 columns]"
      ]
     },
     "execution_count": 15,
     "metadata": {},
     "output_type": "execute_result"
    }
   ],
   "source": [
    "movies[movies.movieId==1089]"
   ]
  },
  {
   "cell_type": "code",
   "execution_count": 16,
   "metadata": {},
   "outputs": [
    {
     "name": "stdout",
     "output_type": "stream",
     "text": [
      "2874\n"
     ]
    }
   ],
   "source": [
    "print(similarities[1067].argmax())"
   ]
  },
  {
   "cell_type": "code",
   "execution_count": 17,
   "metadata": {},
   "outputs": [
    {
     "data": {
      "text/plain": [
       "movieId                                                  136990\n",
       "title                                       the perfect student\n",
       "genres                [0 1 0 0 0 0 0 1 0 0 0 1 0 0 0 0 0 0 0 0]\n",
       "year                                                       2011\n",
       "Sci-Fi                                                        0\n",
       "Thriller                                                      1\n",
       "Adventure                                                     0\n",
       "Drama                                                         0\n",
       "Musical                                                       0\n",
       "Fantasy                                                       0\n",
       "Western                                                       0\n",
       "Crime                                                         1\n",
       "(no genres listed)                                            0\n",
       "Romance                                                       0\n",
       "Children                                                      0\n",
       "Mystery                                                       1\n",
       "IMAX                                                          0\n",
       "Film-Noir                                                     0\n",
       "Action                                                        0\n",
       "Horror                                                        0\n",
       "Animation                                                     0\n",
       "Documentary                                                   0\n",
       "War                                                           0\n",
       "Comedy                                                        0\n",
       "mean_rating                                                   4\n",
       "total_ratings                                                 2\n",
       "007                                                           0\n",
       "007 (series)                                                  0\n",
       "18th century                                                  0\n",
       "1920s                                                         0\n",
       "                                        ...                    \n",
       "waste of time                                                 0\n",
       "watch the credits                                             0\n",
       "weapons                                                       0\n",
       "wedding                                                       0\n",
       "weed                                                          0\n",
       "weird                                                         0\n",
       "werewolf                                                      0\n",
       "werewolves                                                    0\n",
       "western                                                       0\n",
       "whimsical                                                     0\n",
       "wilderness                                                    0\n",
       "wine                                                          0\n",
       "wistful                                                       0\n",
       "witch                                                         0\n",
       "witches                                                       0\n",
       "witty                                                         0\n",
       "wizards                                                       0\n",
       "women                                                         0\n",
       "working class                                                 0\n",
       "workplace                                                     0\n",
       "world politics                                                0\n",
       "world war i                                                   0\n",
       "world war ii                                                  0\n",
       "writer's life                                                 0\n",
       "writers                                                       0\n",
       "writing                                                       0\n",
       "wuxia                                                         0\n",
       "wwii                                                          0\n",
       "zombie                                                        0\n",
       "zombies                                                       0\n",
       "Name: 31443, Length: 1154, dtype: object"
      ]
     },
     "execution_count": 17,
     "metadata": {},
     "output_type": "execute_result"
    }
   ],
   "source": [
    "movies.iloc[31443]"
   ]
  },
  {
   "cell_type": "code",
   "execution_count": 29,
   "metadata": {},
   "outputs": [
    {
     "name": "stdout",
     "output_type": "stream",
     "text": [
      "For in the mood for love (4144) we suggest jane eyre (6983) with similarity rating 0.81.\n"
     ]
    }
   ],
   "source": [
    "get_similarities_for_movie_title('in the mood for love')"
   ]
  }
 ],
 "metadata": {
  "kernelspec": {
   "display_name": "Python 3",
   "language": "python",
   "name": "python3"
  },
  "language_info": {
   "codemirror_mode": {
    "name": "ipython",
    "version": 3
   },
   "file_extension": ".py",
   "mimetype": "text/x-python",
   "name": "python",
   "nbconvert_exporter": "python",
   "pygments_lexer": "ipython3",
   "version": "3.5.3"
  }
 },
 "nbformat": 4,
 "nbformat_minor": 2
}
