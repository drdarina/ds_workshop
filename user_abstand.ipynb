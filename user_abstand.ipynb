{
 "cells": [
  {
   "cell_type": "code",
   "execution_count": 1,
   "metadata": {
    "collapsed": true
   },
   "outputs": [],
   "source": [
    "import numpy as np\n",
    "import pandas as pd\n",
    "import matplotlib.pyplot as plt\n",
    "import seaborn as sns\n",
    "%matplotlib inline"
   ]
  },
  {
   "cell_type": "code",
   "execution_count": 3,
   "metadata": {
    "collapsed": false
   },
   "outputs": [],
   "source": [
    "user_data = pd.read_csv('workshop_users.csv')"
   ]
  },
  {
   "cell_type": "code",
   "execution_count": 12,
   "metadata": {
    "collapsed": true
   },
   "outputs": [],
   "source": [
    "users = [i for i in user_data.columns if 'user' in i]\n",
    "users_matrix = user_data[users]\n",
    "n_users = len(users)"
   ]
  },
  {
   "cell_type": "code",
   "execution_count": null,
   "metadata": {
    "collapsed": true
   },
   "outputs": [],
   "source": [
    "# für die Streber: Schreibt eure eigene Funktion, die den Abstand zwischen zwei Usern berechnet\n",
    "def pairwise_distance(u1, u2):\n",
    "    # ...\n",
    "    return distance\n",
    "# jetzt benutzt diese funktion, um den paarweise abstand zwischen den Usern zu berechnen \n",
    "# und in einer Matrix zu speichern"
   ]
  },
  {
   "cell_type": "code",
   "execution_count": 14,
   "metadata": {
    "collapsed": false
   },
   "outputs": [],
   "source": [
    "# für die anderen: Wir können auch eine eingebaute Funktion benutzen\n",
    "from sklearn.metrics.pairwise import euclidean_distances\n",
    "# wir müssen die Matrix transponieren, weil die Funktion den Abstand zwischen den Zeilen berechnet, unsere User aber\n",
    "# als Spalten gespeichert sind\n",
    "distances = euclidean_distances(users_matrix.T)"
   ]
  },
  {
   "cell_type": "code",
   "execution_count": null,
   "metadata": {
    "collapsed": true
   },
   "outputs": [],
   "source": []
  }
 ],
 "metadata": {
  "kernelspec": {
   "display_name": "Python 3",
   "language": "python",
   "name": "python3"
  },
  "language_info": {
   "codemirror_mode": {
    "name": "ipython",
    "version": 3
   },
   "file_extension": ".py",
   "mimetype": "text/x-python",
   "name": "python",
   "nbconvert_exporter": "python",
   "pygments_lexer": "ipython3",
   "version": "3.5.2"
  }
 },
 "nbformat": 4,
 "nbformat_minor": 1
}
